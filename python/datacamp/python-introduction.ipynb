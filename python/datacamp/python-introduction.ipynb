{
 "cells": [
  {
   "cell_type": "markdown",
   "id": "bb5f20e5",
   "metadata": {},
   "source": [
    "# Python Lists"
   ]
  },
  {
   "cell_type": "markdown",
   "id": "fc137256",
   "metadata": {},
   "source": [
    "Imagine you're organizing a family picnic and need to keep track of everyone's contributions. Instead of jotting down each item separately, you can use a Python list to group them together. Here's how you might do it:\n",
    "\n",
    "Items: sandwiches, drinks, fruits, games\n",
    "Contributors: John, Sarah, Mom, Dad\n",
    "You can create a list of lists to pair each item with its contributor:"
   ]
  },
  {
   "cell_type": "markdown",
   "id": "3e2bf1ad",
   "metadata": {},
   "source": [
    "## Create a list\n",
    "A list is a compound data type; you can group values together, like this:\n",
    "\n"
   ]
  },
  {
   "cell_type": "code",
   "execution_count": null,
   "id": "0673f6b0",
   "metadata": {},
   "outputs": [],
   "source": [
    "a = \"is\"\n",
    "b = \"nice\"\n",
    "my_list = [\"my\", \"list\", a, b]"
   ]
  },
  {
   "cell_type": "markdown",
   "id": "5b6f81b0",
   "metadata": {},
   "source": [
    "\n",
    "After measuring the height of your family, you decide to collect some information on the house you're living in. The areas of the different parts of your house are stored in separate variables in the exercise."
   ]
  },
  {
   "cell_type": "markdown",
   "id": "be0f3b8a",
   "metadata": {},
   "source": [
    "#### Instructions\n",
    "\n",
    ">Create a list, areas, that contains the area of the hallway (hall), kitchen (kit), living room (liv), bedroom (bed) and bathroom (bath), in this order. Use the predefined variables.\n",
    "\n",
    ">Print areas with the print() function.\n",
    "\n"
   ]
  },
  {
   "cell_type": "code",
   "execution_count": null,
   "id": "9fef903f",
   "metadata": {},
   "outputs": [
    {
     "name": "stdout",
     "output_type": "stream",
     "text": [
      "[11.25, 18.0, 20.0, 10.75, 9.5]\n"
     ]
    }
   ],
   "source": [
    "hall = 11.25\n",
    "kit = 18.0\n",
    "liv = 20.0\n",
    "bed = 10.75\n",
    "bath = 9.50\n",
    "\n",
    "# Create list areas\n",
    "areas=[\n",
    "    hall,\n",
    "    kit,\n",
    "    liv,\n",
    "    bed,\n",
    "    bath,\n",
    "    ]\n",
    "\n",
    "# Print areas\n",
    "print(areas)"
   ]
  },
  {
   "cell_type": "markdown",
   "id": "16189893",
   "metadata": {},
   "source": [
    "### Create lists with different types\n",
    "Although it's not really common, a list can also contain a mix of Python types including strings, floats, and booleans.\n",
    "\n",
    "You're now going to add the room names to your list, so you can easily see both the room name and size together.\n"
   ]
  },
  {
   "cell_type": "markdown",
   "id": "f197b4ec",
   "metadata": {},
   "source": [
    "#### Instructions\n",
    "\n",
    ">Finish the code that creates the areas list.\n",
    "\n",
    ">Build the list so that the list first contains the name of each room as a string and then its area. \n",
    "\n",
    ">In other words, add the strings \"hallway\", \"kitchen\" and \"bedroom\" at the appropriate locations.\n",
    "\n",
    ">Print areas again; is the printout more informative this time?"
   ]
  },
  {
   "cell_type": "markdown",
   "id": "75d1430f",
   "metadata": {},
   "source": []
  },
  {
   "cell_type": "code",
   "execution_count": null,
   "id": "f7a64aa5",
   "metadata": {},
   "outputs": [
    {
     "name": "stdout",
     "output_type": "stream",
     "text": [
      "['hallway', 11.25, 'kitchen', 18.0, 'living room', 20.0, 'bedroom', 10.75, 'bathroom', 9.5]\n"
     ]
    }
   ],
   "source": [
    "hall = 11.25\n",
    "kit = 18.0\n",
    "liv = 20.0\n",
    "bed = 10.75\n",
    "bath = 9.50\n",
    "\n",
    "# Adapt list areas\n",
    "areas = [\"hallway\", hall,\"kitchen\", kit, \"living room\", liv,\"bedroom\", bed, \"bathroom\", bath]\n",
    "\n",
    "# Print areas\n",
    "print(areas)"
   ]
  },
  {
   "cell_type": "markdown",
   "id": "c0f1a719",
   "metadata": {},
   "source": [
    "\n",
    "Some of the code has been provided for you to get you started. Pay attention here! \"bathroom\" is a string, while bath is a variable that represents the float 9.50 you specified earlier."
   ]
  },
  {
   "cell_type": "markdown",
   "id": "dfefbc2e",
   "metadata": {},
   "source": [
    "### List of lists\n",
    "As a data scientist, you'll often be dealing with a lot of data, and it will make sense to group some of this data.\n",
    "\n",
    "Instead of creating a list containing strings and floats, representing the names and areas of the rooms in your house, you can create a list of lists.\n"
   ]
  },
  {
   "cell_type": "markdown",
   "id": "1d3c3f70",
   "metadata": {},
   "source": [
    "#### Instructions\n",
    "\n",
    ">Finish the list of lists so that it also contains the bedroom and bathroom data. \n",
    "\n",
    ">Make sure you enter these in order!\n",
    "\n",
    ">Print out house; does this way of structuring your data make more sense?"
   ]
  },
  {
   "cell_type": "code",
   "execution_count": null,
   "id": "717dbbe6",
   "metadata": {},
   "outputs": [],
   "source": [
    "hall = 11.25\n",
    "kit = 18.0\n",
    "liv = 20.0\n",
    "bed = 10.75\n",
    "bath = 9.50\n",
    "\n",
    "# House information as list of lists\n",
    "house = [[\"hallway\", hall],\n",
    "         [\"kitchen\", kit],\n",
    "         [\"living room\", liv],\n",
    "         [\"bedroom\", bed],\n",
    "         [\"bathroom\", bath],\n",
    "       ]\n",
    "\n",
    "# Print out house\n",
    "print(house)"
   ]
  },
  {
   "cell_type": "markdown",
   "id": "e33df629",
   "metadata": {},
   "source": [
    "\n",
    "Remember: \"hallway\" is a string, while hall is a variable that represents the float 11.25 you specified earlier."
   ]
  },
  {
   "cell_type": "markdown",
   "id": "561bdebe",
   "metadata": {},
   "source": [
    "## Subsetting List\n",
    "\n",
    "In this lesson, you'll learn how to access and manipulate elements within a Python list using indexing and slicing. Here's what you'll explore:\n",
    "\n",
    ">Indexing: Access elements using positive and negative indexes. For example, fam[3] retrieves the fourth element, while fam[-1] gets the last element.\n",
    "\n",
    ">Slicing: Select multiple elements to create a new list. Use a colon to specify the range, like fam[1:4] for elements with indexes 1, 2, and 3.\n"
   ]
  },
  {
   "cell_type": "markdown",
   "id": "4908f068",
   "metadata": {},
   "source": [
    "### Subset and conquer\n",
    "\n",
    "Subsetting Python lists is a piece of cake. Take the code sample below, which creates a list x and then selects \"b\" from it. Remember that this is the second element, so it has index 1. You can also use negative indexing.\n"
   ]
  },
  {
   "cell_type": "code",
   "execution_count": null,
   "id": "0cb3ddf8",
   "metadata": {},
   "outputs": [
    {
     "data": {
      "text/plain": [
       "'b'"
      ]
     },
     "execution_count": 4,
     "metadata": {},
     "output_type": "execute_result"
    }
   ],
   "source": [
    "\n",
    "x = [\"a\", \"b\", \"c\", \"d\"]\n",
    "x[1]\n",
    "x[-3] # same result!\n"
   ]
  },
  {
   "cell_type": "markdown",
   "id": "3d7ea030",
   "metadata": {},
   "source": [
    "Remember the areas list from before, containing both strings and floats? Its definition is already in the script. Can you add the correct code to do some Python subsetting?"
   ]
  },
  {
   "cell_type": "markdown",
   "id": "c299ed99",
   "metadata": {},
   "source": [
    "#### Instructions\n",
    "\n",
    ">Print out the second element from the areas list (it has the value 11.25).\n",
    "\n",
    ">Subset and print out the last element of areas, being 9.50. Using a negative index makes sense here!\n",
    "\n",
    ">Select the number representing the area of the living room (20.0) and print it out."
   ]
  },
  {
   "cell_type": "code",
   "execution_count": null,
   "id": "bc248728",
   "metadata": {},
   "outputs": [
    {
     "name": "stdout",
     "output_type": "stream",
     "text": [
      "11.25\n",
      "9.5\n",
      "['living room', 20.0]\n"
     ]
    }
   ],
   "source": [
    "# Create the areas list\n",
    "areas = [\"hallway\", 11.25, \"kitchen\", 18.0, \"living room\", 20.0, \"bedroom\", 10.75, \"bathroom\", 9.50]\n",
    "\n",
    "# Print out second element from areas\n",
    "print(areas[1])\n",
    "\n",
    "# Print out last element from areas\n",
    "print(areas[-1])\n",
    "\n",
    "# Print out the area of the living room\n",
    "print(areas[4:6])"
   ]
  },
  {
   "cell_type": "markdown",
   "id": "8876683a",
   "metadata": {},
   "source": [
    "### Slicing and dicing\n",
    "\n",
    "Selecting single values from a list is just one part of the story. It's also possible to slice your list, which means selecting multiple elements from your list. Use the following syntax:\n"
   ]
  },
  {
   "cell_type": "code",
   "execution_count": null,
   "id": "f2afb755",
   "metadata": {},
   "outputs": [],
   "source": [
    "my_list[start:end]"
   ]
  },
  {
   "cell_type": "markdown",
   "id": "e0d9bf5c",
   "metadata": {},
   "source": [
    "\n",
    "The start index will be included, while the end index is not. However, it's also possible not to specify these indexes. If you don't specify the start index, Python figures out that you want to start your slice at the beginning of your list."
   ]
  },
  {
   "cell_type": "markdown",
   "id": "f09ac507",
   "metadata": {},
   "source": [
    "#### Instructions\n",
    "\n",
    ">Use slicing to create a list, downstairs, that contains the first 6 elements of areas.\n",
    "\n",
    ">Create upstairs, as the last 4 elements of areas. This time, simplify the slicing by omitting the end index.\n",
    "\n",
    ">Print both downstairs and upstairs using print()."
   ]
  },
  {
   "cell_type": "code",
   "execution_count": null,
   "id": "675be922",
   "metadata": {},
   "outputs": [
    {
     "name": "stdout",
     "output_type": "stream",
     "text": [
      "['hallway', 11.25, 'kitchen', 18.0, 'living room', 20.0]\n",
      "['bedroom', 10.75, 'bathroom', 9.5]\n"
     ]
    }
   ],
   "source": [
    "# Create the areas list\n",
    "areas = [\"hallway\", 11.25, \"kitchen\", 18.0, \"living room\", 20.0, \"bedroom\", 10.75, \"bathroom\", 9.50]\n",
    "\n",
    "# Use slicing to create downstairs\n",
    "downstairs = areas[:6]\n",
    "\n",
    "# Use slicing to create upstairs\n",
    "upstairs = areas[6:10]\n",
    "\n",
    "# Print out downstairs and upstairs\n",
    "print(downstairs)\n",
    "print(upstairs)\n"
   ]
  },
  {
   "cell_type": "markdown",
   "id": "bc8b90d5",
   "metadata": {},
   "source": [
    "### Subsetting lists of lists\n",
    "A Python list can also contain other lists.\n",
    "\n",
    "To subset lists of lists, you can use the same technique as before: square brackets. This would look something like this for a list, house:\n"
   ]
  },
  {
   "cell_type": "code",
   "execution_count": null,
   "id": "0931d2f3",
   "metadata": {},
   "outputs": [],
   "source": [
    "\n",
    "house[2][0]"
   ]
  },
  {
   "cell_type": "markdown",
   "id": "3738b044",
   "metadata": {},
   "source": [
    "#### Instructions\n",
    "\n",
    ">Subset the house list to get the float 9.5."
   ]
  },
  {
   "cell_type": "code",
   "execution_count": null,
   "id": "72109c26",
   "metadata": {},
   "outputs": [
    {
     "data": {
      "text/plain": [
       "9.5"
      ]
     },
     "execution_count": 10,
     "metadata": {},
     "output_type": "execute_result"
    }
   ],
   "source": [
    "house = [[\"hallway\", 11.25],\n",
    "         [\"kitchen\", 18.0],\n",
    "         [\"living room\", 20.0],\n",
    "         [\"bedroom\", 10.75],\n",
    "         [\"bathroom\", 9.50]]\n",
    "\n",
    "# Subset the house list\n",
    "house[4][1]"
   ]
  },
  {
   "cell_type": "markdown",
   "id": "446a4a17",
   "metadata": {},
   "source": [
    "## Manipulating List\n",
    "\n",
    "Dive into the world of Python list manipulation. This lesson covers how to modify, add, and remove elements in a list, and explores the nuances of list references in memory.\n"
   ]
  },
  {
   "cell_type": "markdown",
   "id": "209a9b65",
   "metadata": {},
   "source": [
    "\n",
    ">Update list elements using square brackets and the equals sign.\n",
    "\n",
    ">Add elements by using the plus operator to concatenate lists.\n",
    "\n",
    ">Remove elements with the del keyword.\n",
    "\n",
    "Understand how lists are stored in memory and how references work.\n",
    "\n"
   ]
  },
  {
   "cell_type": "code",
   "execution_count": null,
   "id": "f1e11163",
   "metadata": {},
   "outputs": [],
   "source": [
    "#  Here's a quick code snippet to illustrate:\n",
    "\n",
    "fam = [\"liz\", 1.73, \"emma\", 1.68, \"mom\", 1.71, \"dad\", 1.89]\n",
    "fam[7] = 1.86  # Update dad's height\n",
    "del(fam[2])    # Remove \"emma\"\n",
    "\n",
    "# Explore these concepts further in the exercises."
   ]
  },
  {
   "cell_type": "markdown",
   "id": "7cc090e9",
   "metadata": {},
   "source": [
    "### Replace list elements\n",
    "\n",
    "To replace list elements, you subset the list and assign new values to the subset. You can select single elements or you can change entire list slices at once.\n",
    "\n",
    "For this and the following exercises, you'll continue working on the areas list that contains the names and areas of different rooms in a house.\n"
   ]
  },
  {
   "cell_type": "markdown",
   "id": "357fc16f",
   "metadata": {},
   "source": [
    "\n",
    "#### Instructions\n",
    "\n",
    ">Update the area of the bathroom to be 10.50 square meters instead of 9.50 using negative indexing.\n",
    "\n",
    ">Make the areas list more trendy! Change \"living room\" to \"chill zone\". Don't use negative indexing this time."
   ]
  },
  {
   "cell_type": "code",
   "execution_count": null,
   "id": "f5c9b212",
   "metadata": {},
   "outputs": [
    {
     "name": "stdout",
     "output_type": "stream",
     "text": [
      "10.5\n",
      "chill zone\n"
     ]
    }
   ],
   "source": [
    "# Create the areas list\n",
    "areas = [\"hallway\", 11.25, \"kitchen\", 18.0, \"living room\", 20.0, \"bedroom\", 10.75, \"bathroom\", 9.50]\n",
    "\n",
    "# Correct the bathroom area\n",
    "areas[9]=10.50\n",
    "\n",
    "# Change \"living room\" to \"chill zone\"\n",
    "areas[4]=\"chill zone\"\n",
    "\n",
    "print(areas[9])\n",
    "print(areas[4])"
   ]
  },
  {
   "cell_type": "markdown",
   "id": "10207d83",
   "metadata": {},
   "source": [
    "### Extend a list\n",
    "If you can change elements in a list, you sure want to be able to add elements to it, right? You can use the + operator:\n"
   ]
  },
  {
   "cell_type": "code",
   "execution_count": null,
   "id": "78e60e7c",
   "metadata": {},
   "outputs": [],
   "source": [
    "x = [\"a\", \"b\", \"c\", \"d\"]\n",
    "y = x + [\"e\", \"f\"]\n",
    "# You just won the lottery, awesome! You decide to build a poolhouse and a garage. Can you add the information to the areas list?"
   ]
  },
  {
   "cell_type": "markdown",
   "id": "06d3fd7c",
   "metadata": {},
   "source": [
    "\n",
    "#### Instructions\n",
    "\n",
    ">Use the + operator to paste the list [\"poolhouse\", 24.5] to the end of the areas list.\n",
    "\n",
    ">Store the resulting list as areas_1.\n",
    "\n",
    ">Further extend areas_1 by adding data on your garage. \n",
    "\n",
    ">Add the string \"garage\" and float 15.45. Name the resulting list areas_2."
   ]
  },
  {
   "cell_type": "code",
   "execution_count": null,
   "id": "660f5806",
   "metadata": {},
   "outputs": [
    {
     "name": "stdout",
     "output_type": "stream",
     "text": [
      "['hallway', 11.25, 'kitchen', 18.0, 'chill zone', 20.0, 'bedroom', 10.75, 'bathroom', 10.5]\n",
      "['hallway', 11.25, 'kitchen', 18.0, 'chill zone', 20.0, 'bedroom', 10.75, 'bathroom', 10.5, 'poolhouse', 24.5]\n",
      "['hallway', 11.25, 'kitchen', 18.0, 'chill zone', 20.0, 'bedroom', 10.75, 'bathroom', 10.5, 'poolhouse', 24.5, 'garage', 15.45]\n"
     ]
    }
   ],
   "source": [
    "# Create the areas list and make some changes\n",
    "areas = [\"hallway\", 11.25, \"kitchen\", 18.0, \"chill zone\", 20.0,\n",
    "         \"bedroom\", 10.75, \"bathroom\", 10.50]\n",
    "\n",
    "# Add poolhouse data to areas, new list is areas_1\n",
    "areas_1 = areas + [\"poolhouse\", 24.5]\n",
    "\n",
    "# Add garage data to areas_1, new list is areas_2\n",
    "areas_2 = areas_1 + [\"garage\",15.45]\n",
    "\n",
    "print(areas)\n",
    "print(areas_1)\n",
    "print(areas_2)"
   ]
  },
  {
   "cell_type": "markdown",
   "id": "27ee587e",
   "metadata": {},
   "source": [
    "### Delete list elements\n",
    "Finally, you can also remove elements from your list. You can do this with the del statement:\n"
   ]
  },
  {
   "cell_type": "code",
   "execution_count": null,
   "id": "cddcf7eb",
   "metadata": {},
   "outputs": [],
   "source": [
    "\n",
    "x = [\"a\", \"b\", \"c\", \"d\"]\n",
    "del x[1]\n",
    "#Pay attention here: as soon as you remove an element from a list, the indexes of the elements that come after the deleted element all change!\n"
   ]
  },
  {
   "cell_type": "markdown",
   "id": "0a8475cd",
   "metadata": {},
   "source": [
    "\n",
    "Unfortunately, the amount you won with the lottery is not that big after all and it looks like the poolhouse isn't going to happen. You'll need to remove it from the list. You decide to remove the corresponding string and float from the areas list."
   ]
  },
  {
   "cell_type": "markdown",
   "id": "1d9322ee",
   "metadata": {},
   "source": [
    "\n",
    "#### Instructions\n",
    "\n",
    ">Delete the string and float for the \"poolhouse\" from your areas list.\n",
    "\n",
    ">Print the updated areas list."
   ]
  },
  {
   "cell_type": "code",
   "execution_count": null,
   "id": "c8cf09f2",
   "metadata": {},
   "outputs": [
    {
     "name": "stdout",
     "output_type": "stream",
     "text": [
      "['hallway', 11.25, 'kitchen', 18.0, 'chill zone', 20.0, 'bedroom', 10.75, 'bathroom', 10.5, 'poolhouse', 24.5, 'garage', 15.45]\n",
      "['hallway', 11.25, 'kitchen', 18.0, 'chill zone', 20.0, 'bedroom', 10.75, 'bathroom', 10.5, 'garage', 15.45]\n"
     ]
    }
   ],
   "source": [
    "areas = [\"hallway\", 11.25, \"kitchen\", 18.0,\n",
    "        \"chill zone\", 20.0, \"bedroom\", 10.75,\n",
    "         \"bathroom\", 10.50, \"poolhouse\", 24.5,\n",
    "         \"garage\", 15.45]\n",
    "\n",
    "print(areas)\n",
    "# Delete the poolhouse items from the list\n",
    "del areas[10:12]\n",
    "\n",
    "# Print the updated list\n",
    "print(areas)"
   ]
  },
  {
   "cell_type": "markdown",
   "id": "3ec28498",
   "metadata": {},
   "source": [
    "### Inner workings of lists\n",
    "Some code has been provided for you in this exercise: a list with the name areas and a copy named areas_copy.\n",
    "\n",
    "Currently, the first element in the areas_copy list is changed and the areas list is printed out. If you hit the run code button you'll see that, although you've changed areas_copy, the change also takes effect in the areas list. That's because areas and areas_copy point to the same list.\n",
    "\n",
    "If you want to prevent changes in areas_copy from also taking effect in areas, you'll have to do a more explicit copy of the areas list with list() or by using [:].\n"
   ]
  },
  {
   "cell_type": "markdown",
   "id": "0e5f5b2d",
   "metadata": {},
   "source": [
    "\n",
    "#### Instructions\n",
    "\n",
    ">Change the second command, that creates the variable areas_copy, such that areas_copy is an explicit copy of areas. \n",
    "\n",
    ">After your edit, changes made to areas_copy shouldn't affect areas. \n",
    "\n",
    ">Submit the answer to check this."
   ]
  },
  {
   "cell_type": "code",
   "execution_count": null,
   "id": "f5e1aca9",
   "metadata": {},
   "outputs": [],
   "source": [
    "# Create list areas\n",
    "areas = [11.25, 18.0, 20.0, 10.75, 9.50]\n",
    "\n",
    "# Change this command\n",
    "areas_copy = areas[:]\n",
    "print(areas_copy)\n",
    "\n",
    "# Change areas_copy\n",
    "areas_copy[0] = 5.0\n",
    "\n",
    "# Print areas\n",
    "print(areas)\n",
    "print(areas_copy)"
   ]
  },
  {
   "cell_type": "markdown",
   "id": "f8122cd3",
   "metadata": {},
   "source": [
    "# Function"
   ]
  },
  {
   "cell_type": "markdown",
   "id": "5d3cdc60",
   "metadata": {},
   "source": [
    "This lesson introduces the concept of functions in Python, emphasizing their role in simplifying code by reusing predefined operations.\n"
   ]
  },
  {
   "cell_type": "code",
   "execution_count": null,
   "id": "f6e0e1cc",
   "metadata": {},
   "outputs": [],
   "source": [
    "abs()\n",
    "aiter()\n",
    "all()\n",
    "anext()\n",
    "any()\n",
    "ascii()\n",
    "bin()\n",
    "bool()\n",
    "breakpoint()\n",
    "bytearray()\n",
    "bytes()\n",
    "callable()\n",
    "chr()\n",
    "classmethod()\n",
    "compile()\n",
    "complex()\n",
    "delattr()\n",
    "dict()\n",
    "dir()\n",
    "divmod()\n",
    "enumerate()\n",
    "eval()\n",
    "exec()\n",
    "filter()\n",
    "float()\n",
    "format()\n",
    "frozenset()\n",
    "getattr()\n",
    "globals()\n",
    "hasattr()\n",
    "hash()\n",
    "help()\n",
    "hex()\n",
    "id()\n",
    "input()\n",
    "int()\n",
    "isinstance()\n",
    "issubclass()\n",
    "iter()\n",
    "len()\n",
    "list()\n",
    "locals()\n",
    "map()\n",
    "max()\n",
    "memoryview()\n",
    "min()\n",
    "next()\n",
    "object()\n",
    "oct()\n",
    "open()\n",
    "ord()\n",
    "pow()\n",
    "print()\n",
    "property()\n",
    "range()\n",
    "repr()\n",
    "reversed()\n",
    "round()\n",
    "set()\n",
    "setattr()\n",
    "slice()\n",
    "sorted()\n",
    "staticmethod()\n",
    "str()\n",
    "sum()\n",
    "super()\n",
    "tuple()\n",
    "type()\n",
    "vars()\n",
    "zip()\n",
    "__import__()"
   ]
  },
  {
   "cell_type": "markdown",
   "id": "e90b6706",
   "metadata": {},
   "source": [
    "\n",
    "Key Points:\n"
   ]
  },
  {
   "cell_type": "markdown",
   "id": "1f9e067c",
   "metadata": {},
   "source": [
    "\n",
    ">Functions are reusable code blocks for specific tasks.\n",
    "\n",
    ">Built-in functions like type, max, and round make coding more efficient.\n",
    "\n",
    ">max finds the highest value in a list.\n",
    "\n",
    ">round can round numbers to a specified decimal place or nearest integer.\n",
    "\n",
    ">Functions can have optional arguments, as seen with round.\n"
   ]
  },
  {
   "cell_type": "code",
   "execution_count": null,
   "id": "79e24e20",
   "metadata": {},
   "outputs": [],
   "source": [
    "\n",
    "#Code Example:\n",
    "\n",
    "fam = [1.89, 1.76, 1.68]\n",
    "tallest = max(fam)\n",
    "rounded_value = round(1.68, 1)\n",
    "\n",
    "#Explore Python's documentation and online resources to discover more functions."
   ]
  },
  {
   "cell_type": "markdown",
   "id": "079eed5e",
   "metadata": {},
   "source": [
    "#### Real-Life Example\n",
    "Imagine you're organizing a family picnic and you need to decide on the tallest person to help hang decorations. Instead of measuring everyone, you can use Python's max function to find the tallest height from a list of family members' heights.\n"
   ]
  },
  {
   "cell_type": "markdown",
   "id": "9099a826",
   "metadata": {},
   "source": [
    "\n",
    "Create a list of heights: \n",
    "\n",
    "fam = [1.75, 1.68, 1.82, 1.89]\n",
    "\n",
    "Use max to find the tallest: tallest = max(fam)\n"
   ]
  },
  {
   "cell_type": "code",
   "execution_count": null,
   "id": "b2fbcd84",
   "metadata": {},
   "outputs": [
    {
     "name": "stdout",
     "output_type": "stream",
     "text": [
      "1.89\n"
     ]
    }
   ],
   "source": [
    "fam = [1.75, 1.68, 1.82, 1.89]\n",
    "tallest = max(fam)\n",
    "print(tallest)  # Output: 1.89\n"
   ]
  },
  {
   "cell_type": "markdown",
   "id": "3fb765de",
   "metadata": {},
   "source": [
    "## Familiar functions\n",
    "Out of the box, Python offers a bunch of built-in functions to make your life as a data scientist easier. You already know two such functions: print() and type(). There are also functions like str(), int(), bool() and float() to switch between data types. You can find out about them here. These are built-in functions as well.\n"
   ]
  },
  {
   "cell_type": "markdown",
   "id": "6523073d",
   "metadata": {},
   "source": [
    "\n",
    "Calling a function is easy. To get the type of 3.0 and store the output as a new variable, result, you can use the following:\n"
   ]
  },
  {
   "cell_type": "code",
   "execution_count": null,
   "id": "2ba11dee",
   "metadata": {},
   "outputs": [
    {
     "name": "stdout",
     "output_type": "stream",
     "text": [
      "<class 'float'>\n"
     ]
    }
   ],
   "source": [
    "\n",
    "result = type(3.0)\n",
    "\n",
    "print(result)  # Output: <class 'float'>\n"
   ]
  },
  {
   "cell_type": "markdown",
   "id": "0cbc846b",
   "metadata": {},
   "source": [
    "Instructions\n",
    "\n",
    ">Use print() in combination with type() to print out the type of var1.\n",
    "\n",
    ">Use len() to get the length of the list var1. Wrap it in a print() call to directly print it out.\n",
    "\n",
    ">Use int() to convert var2 to an integer. Store the output as out2."
   ]
  },
  {
   "cell_type": "code",
   "execution_count": null,
   "id": "ee3ed1d1",
   "metadata": {},
   "outputs": [],
   "source": [
    "# Create variables var1 and var2\n",
    "var1 = [1, 2, 3, 4]\n",
    "var2 = True\n",
    "\n",
    "# Print out type of var1\n",
    "print(var1)\n",
    "\n",
    "# Print out length of var1\n",
    "print(len(var1))\n",
    "\n",
    "# Convert var2 to an integer: out2\n",
    "out2 = int(var2)\n",
    "print(out2)\n",
    "print(type(var1))\n",
    "print(type(var2))\n",
    "print(type(out2))\n",
    "\n"
   ]
  },
  {
   "cell_type": "markdown",
   "id": "317bbab4",
   "metadata": {},
   "source": [
    "## Help!\n",
    "Maybe you already know the name of a Python function, but you still have to figure out how to use it. Ironically, you have to ask for information about a function with another function: help(). In IPython specifically, you can also use ? before the function name.\n"
   ]
  },
  {
   "cell_type": "markdown",
   "id": "1dcc7973",
   "metadata": {},
   "source": [
    "\n",
    "To get help on the max() function, for example, you can use one of these calls:\n"
   ]
  },
  {
   "cell_type": "code",
   "execution_count": null,
   "id": "91034ea7",
   "metadata": {},
   "outputs": [],
   "source": [
    "\n",
    "help(max)\n",
    "?max\n"
   ]
  },
  {
   "cell_type": "markdown",
   "id": "8846c065",
   "metadata": {},
   "source": [
    "Use the IPython Shell to open up the documentation on pow(). Do this by typing ?pow or help(pow) and hitting Enter.\n",
    "\n",
    "Which of the following statements is true? (find on terminal)\n",
    "\n",
    "Possible answers\n",
    "\n",
    "\n",
    ">pow() takes three arguments: base, exp, and mod. Without mod, the function will return an error.\n",
    "\n",
    ">pow() takes three required arguments: base, exp, and None.\n",
    "\n",
    ">pow() requires base and exp arguments; mod is optional. <<=====\n",
    "\n",
    ">pow() takes two arguments: exp and mod. Missing exp results in an error."
   ]
  },
  {
   "cell_type": "markdown",
   "id": "ff182e74",
   "metadata": {},
   "source": [
    "This saves time and ensures accuracy, just like how functions simplify tasks in coding."
   ]
  },
  {
   "cell_type": "markdown",
   "id": "2f09f881",
   "metadata": {},
   "source": [
    "## Multiple arguments\n",
    "In the previous exercise, you identified optional arguments by viewing the documentation with help(). You'll now apply this to change the behavior of the sorted() function.\n",
    "\n",
    "Have a look at the documentation of sorted() by typing help(sorted) in the IPython Shell.\n",
    "\n",
    "You'll see that sorted() takes three arguments: iterable, key, and reverse. In this exercise, you'll only have to specify iterable and reverse, not key.\n",
    "\n",
    "Two lists have been created for you.\n",
    "\n",
    "Can you paste them together and sort them in descending order?\n"
   ]
  },
  {
   "cell_type": "markdown",
   "id": "093141e7",
   "metadata": {},
   "source": [
    "Instructions\n",
    "\n",
    ">Use + to merge the contents of first and second into a new list: full.\n",
    "\n",
    ">Call sorted() and on full and specify the reverse argument to be True. Save the sorted list as full_sorted.\n",
    "\n",
    ">Finish off by printing out full_sorted.\n",
    "\n",
    "\n",
    "\n",
    "\n"
   ]
  },
  {
   "cell_type": "code",
   "execution_count": null,
   "id": "27e5c3fd",
   "metadata": {},
   "outputs": [
    {
     "name": "stdout",
     "output_type": "stream",
     "text": [
      "[1, 2, 4, 3, 2, 5]\n",
      "[1, 2, 4, 3, 2, 5, 10, 9, 8, 7, 6]\n",
      "[5, 4, 3, 2, 2, 1]\n",
      "[1, 2, 2, 3, 4, 5, 6, 7, 8, 9, 10]\n"
     ]
    }
   ],
   "source": [
    "\n",
    "angka = [1, 2, 4, 3, 2, 5]\n",
    "number= angka[:] +[10, 9, 8, 7, 6]\n",
    "angkaurut=sorted(angka, reverse=True)\n",
    "numberurut=sorted(number, reverse=False)\n",
    "\n",
    "print(angka)\n",
    "print(number)\n",
    "print(angkaurut)\n",
    "print(numberurut)"
   ]
  },
  {
   "cell_type": "code",
   "execution_count": null,
   "id": "575d6c5b",
   "metadata": {},
   "outputs": [
    {
     "name": "stdout",
     "output_type": "stream",
     "text": [
      "[20.0, 18.0, 11.25, 10.75, 9.5]\n"
     ]
    }
   ],
   "source": [
    "# Create lists first and second\n",
    "first = [11.25, 18.0, 20.0]\n",
    "second = [10.75, 9.50]\n",
    "\n",
    "# Paste together first and second: full\n",
    "full = first[:] + second[:]\n",
    "\n",
    "# Sort full in descending order: full_sorted\n",
    "full_sorted= sorted(full, reverse=True)\n",
    "\n",
    "# Print out full_sorted\n",
    "print(full_sorted)"
   ]
  },
  {
   "cell_type": "markdown",
   "id": "66ecbd76",
   "metadata": {},
   "source": [
    "## String Methods\n",
    "Strings come with a bunch of methods. Follow the instructions closely to discover some of them. If you want to discover them in more detail, you can always type help(str) in the IPython Shell.\n",
    "\n",
    "A string place has already been created for you to experiment with.\n"
   ]
  },
  {
   "cell_type": "markdown",
   "id": "048a14f2",
   "metadata": {},
   "source": [
    "\n",
    "Instructions\n",
    "\n",
    ">Use the .upper() method on place and store the result in place_up. \n",
    "\n",
    ">Use the syntax for calling methods that you learned in the previous video.\n",
    "\n",
    ">Print out place and place_up. Did both change?\n",
    "\n",
    ">Print out the number of o's on the variable place by calling .count() on place and passing the letter 'o' as an input to the method. \n",
    "\n",
    ">We're talking about the variable place, not the word \"place\"!"
   ]
  },
  {
   "cell_type": "code",
   "execution_count": null,
   "id": "ec691907",
   "metadata": {},
   "outputs": [
    {
     "name": "stdout",
     "output_type": "stream",
     "text": [
      "poolhouse\n",
      "POOLHOUSE\n"
     ]
    },
    {
     "data": {
      "text/plain": [
       "3"
      ]
     },
     "execution_count": 20,
     "metadata": {},
     "output_type": "execute_result"
    }
   ],
   "source": [
    "# string to experiment with: place\n",
    "place = \"poolhouse\"\n",
    "\n",
    "# Use upper() on place\n",
    "place_up = str.upper(place)\n",
    "\n",
    "# Print out place and place_up\n",
    "print(place)\n",
    "print(place_up)\n",
    "\n",
    "\n",
    "# Print out the number of o's in place\n",
    "print(place.count(\"o\"))\n"
   ]
  },
  {
   "cell_type": "markdown",
   "id": "9f41c70a",
   "metadata": {},
   "source": [
    "## List Methods\n",
    "Strings are not the only Python types that have methods associated with them. Lists, floats, integers and booleans are also types that come packaged with a bunch of useful methods. In this exercise, you'll be experimenting with:\n",
    "\n",
    ">.index(), to get the index of the first element of a list that matches its input and\n",
    "\n",
    ">.count(), to get the number of times an element appears in a list.\n",
    "\n",
    "You'll be working on the list with the area of different parts of a house: areas.\n"
   ]
  },
  {
   "cell_type": "markdown",
   "id": "ab839b9e",
   "metadata": {},
   "source": [
    "\n",
    "Instructions\n",
    "\n",
    ">Use the .index() method to get the index of the element in areas that is equal to 20.0. \n",
    "\n",
    ">Print out this index.\n",
    "\n",
    ">Call .count() on areas to find out how many times 9.50 appears in the list. \n",
    "\n",
    ">Again, simply print out this number."
   ]
  },
  {
   "cell_type": "code",
   "execution_count": null,
   "id": "e4371083",
   "metadata": {},
   "outputs": [],
   "source": [
    "# Create list areas\n",
    "areas = [11.25, 18.0, 20.0, 10.75, 9.50]\n",
    "\n",
    "# Print out the index of the element 20.0\n",
    "print(areas.index(20.0))\n",
    "\n",
    "# Print out how often 9.50 appears in areas\n",
    "print(areas.count(20.0))\n"
   ]
  },
  {
   "cell_type": "markdown",
   "id": "4c91b0f7",
   "metadata": {},
   "source": [
    "## List Methods\n",
    "Most list methods will change the list they're called on. Examples are:\n",
    "\n",
    ">.append(), that adds an element to the list it is called on,\n",
    "\n",
    ">.remove(), that removes the first element of a list that matches the input, and\n",
    "\n",
    ">.reverse(), that reverses the order of the elements in the list it is called on.\n",
    "\n",
    "You'll be working on the list with the area of different parts of the house: areas.\n"
   ]
  },
  {
   "cell_type": "markdown",
   "id": "ebc2e9fd",
   "metadata": {},
   "source": [
    "\n",
    "#### Instructions\n",
    "\n",
    ">Use .append() twice to add the size of the poolhouse and the garage again: 24.5 and 15.45, respectively. \n",
    "\n",
    ">Make sure to add them in this order.\n",
    "\n",
    ">Print out areas\n",
    "\n",
    ">Use the .reverse() method to reverse the order of the elements in areas.\n",
    "Print out areas once more."
   ]
  },
  {
   "cell_type": "code",
   "execution_count": null,
   "id": "cc1fc082",
   "metadata": {},
   "outputs": [],
   "source": [
    "# Create list areas\n",
    "areas = [11.25, 18.0, 20.0, 10.75, 9.50]\n",
    "\n",
    "# Use append twice to add poolhouse and garage size\n",
    "poolhouse=24.5\n",
    "garage=15.45\n",
    "areas.append(poolhouse)\n",
    "areas.append(garage)\n",
    "\n",
    "# Print out areas\n",
    "print(areas)\n",
    "\n",
    "# Reverse the orders of the elements in areas\n",
    "areas=sorted(areas)\n",
    "areas.reverse()\n",
    "# Print out areas\n",
    "print(areas)"
   ]
  },
  {
   "cell_type": "markdown",
   "id": "9da19664",
   "metadata": {},
   "source": [
    "# Packages"
   ]
  },
  {
   "cell_type": "markdown",
   "id": "d6bdcf28",
   "metadata": {},
   "source": [
    "#### Real-Life Example\n",
    "Imagine you're planning a road trip with friends. You have a car (Python), but to make the journey enjoyable, you need some extras like a GPS, a music playlist, and snacks. Think of these extras as Python packages.\n",
    "\n",
    ">GPS: NumPy helps you navigate data efficiently.\n",
    "\n",
    ">Music Playlist: Matplotlib adds a visual element to your trip.\n",
    "\n",
    ">Snacks: scikit-learn fuels your machine learning tasks.\n",
    "\n",
    ">To get these extras, you first need to install them, just like you'd stop by a store. Use pip to install packages:\n"
   ]
  },
  {
   "cell_type": "code",
   "execution_count": null,
   "id": "dbe28e3f",
   "metadata": {
    "vscode": {
     "languageId": "powershell"
    }
   },
   "outputs": [
    {
     "ename": "SyntaxError",
     "evalue": "invalid syntax (1833252686.py, line 1)",
     "output_type": "error",
     "traceback": [
      "  \u001b[36mCell\u001b[39m\u001b[36m \u001b[39m\u001b[32mIn[31]\u001b[39m\u001b[32m, line 1\u001b[39m\n\u001b[31m    \u001b[39m\u001b[31mpython3 get-pip.py\u001b[39m\n            ^\n\u001b[31mSyntaxError\u001b[39m\u001b[31m:\u001b[39m invalid syntax\n"
     ]
    }
   ],
   "source": [
    "\n",
    "python3 get-pip.py\n",
    "\n",
    "pip3 install numpy\n"
   ]
  },
  {
   "cell_type": "markdown",
   "id": "60162b02",
   "metadata": {},
   "source": [
    "Once installed, bring them along by importing them:\n"
   ]
  },
  {
   "cell_type": "code",
   "execution_count": null,
   "id": "e63646ab",
   "metadata": {},
   "outputs": [],
   "source": [
    "\n",
    "import numpy as np\n"
   ]
  },
  {
   "cell_type": "markdown",
   "id": "9b826687",
   "metadata": {},
   "source": [
    "This way, your road trip (or Python project) is smooth and enjoyable!"
   ]
  },
  {
   "cell_type": "markdown",
   "id": "54545052",
   "metadata": {},
   "source": [
    "## Import package\n",
    "\n",
    "Let's say you wanted to calculate the circumference and area of a circle. Here's what those formulas look like:\n",
    "\n",
    "Rather than typing the number for pi, you can use the math package that contains the number\n",
    "\n",
    "For reference, ** is the symbol for exponentiation. For example 3**4 is 3 to the power of 4 and will give 81.\n"
   ]
  },
  {
   "cell_type": "markdown",
   "id": "e092fb33",
   "metadata": {},
   "source": [
    "\n",
    "Instructions\n",
    "\n",
    ">Import the math package.\n",
    "\n",
    ">Use math.pi to calculate the circumference of the circle and store it in C.\n",
    "\n",
    ">Use math.pi to calculate the area of the circle and store it in A."
   ]
  },
  {
   "cell_type": "code",
   "execution_count": null,
   "id": "f809dec9",
   "metadata": {},
   "outputs": [],
   "source": [
    "# Import the math package\n",
    "import math\n",
    "\n",
    "# Calculate C\n",
    "C = 2 * 0.43 * math.pi\n",
    "\n",
    "# Calculate A\n",
    "A = math.pi * 0.43 ** 2\n",
    "\n",
    "print(\"Circumference: \" + str(C))\n",
    "print(\"Area: \" + str(A))"
   ]
  },
  {
   "cell_type": "markdown",
   "id": "1c42b220",
   "metadata": {},
   "source": [
    "### Selective import\n",
    "General imports, like import math, make all functionality from the math package available to you. However, if you decide to only use a specific part of a package, you can always make your import more selective:\n"
   ]
  },
  {
   "cell_type": "code",
   "execution_count": null,
   "id": "e8f43f11",
   "metadata": {},
   "outputs": [],
   "source": [
    "\n",
    "from math import pi\n",
    "#Try the same thing again, but this time only use pi.\n"
   ]
  },
  {
   "cell_type": "markdown",
   "id": "6b9bfc11",
   "metadata": {},
   "source": [
    "\n",
    "Instructions\n",
    "\n",
    ">Perform a selective import from the math package where you only import the pi function.\n",
    "\n",
    ">Use math.pi to calculate the circumference of the circle and store it in C.\n",
    "\n",
    ">Use math.pi to calculate the area of the circle and store it in A."
   ]
  },
  {
   "cell_type": "code",
   "execution_count": null,
   "id": "9a4e3445",
   "metadata": {},
   "outputs": [],
   "source": [
    "# Import pi function of math package\n",
    "from math import pi\n",
    "\n",
    "# Calculate C\n",
    "C = 2 * 0.43 * pi\n",
    "\n",
    "# Calculate A\n",
    "A = pi * 0.43 ** 2\n",
    "\n",
    "print(\"Circumference: \" + str(C))\n",
    "print(\"Area: \" + str(A))"
   ]
  },
  {
   "cell_type": "markdown",
   "id": "a43f6627",
   "metadata": {},
   "source": [
    "### Different ways of importing\n",
    "There are several ways to import packages and modules into Python. Depending on the import call, you'll have to use different Python code.\n",
    "\n",
    "Suppose you want to use the function inv(), which is in the linalg subpackage of the scipy package. You want to be able to use this function as follows:\n"
   ]
  },
  {
   "cell_type": "code",
   "execution_count": null,
   "id": "02654371",
   "metadata": {},
   "outputs": [],
   "source": [
    "\n",
    "my_inv([[1,2], [3,4]])\n"
   ]
  },
  {
   "cell_type": "markdown",
   "id": "f8556b1e",
   "metadata": {},
   "source": [
    "\n",
    "Which import statement will you need in order to run the above code without an error?\n"
   ]
  },
  {
   "cell_type": "markdown",
   "id": "bcc44506",
   "metadata": {},
   "source": [
    "\n",
    "Instructions\n",
    "\n",
    "Possible answers\n",
    "\n",
    ">import scipy\n",
    "\n",
    ">import scipy.linalg\n",
    "\n",
    ">from scipy.linalg import my_inv\n",
    "\n",
    ">from scipy.linalg import inv as my_inv <<-----correct answer"
   ]
  },
  {
   "cell_type": "markdown",
   "id": "966f4d92",
   "metadata": {},
   "source": [
    "# NumPy"
   ]
  },
  {
   "cell_type": "markdown",
   "id": "344e566c",
   "metadata": {},
   "source": [
    "## Your First NumPy Array\n",
    "You're now going to dive into the world of baseball. Along the way, you'll get comfortable with the basics of numpy, a powerful package to do data science.\n",
    "\n",
    "A list baseball has already been defined in the Python script, representing the height of some baseball players in centimeters. Can you add some code to create a numpy array from it?\n"
   ]
  },
  {
   "cell_type": "markdown",
   "id": "b1b27586",
   "metadata": {},
   "source": [
    "\n",
    "Instructions\n",
    "\n",
    ">Import the numpy package as np, so that you can refer to numpy with np.\n",
    "\n",
    ">Use np.array() to create a numpy array from baseball. Name this array np_baseball.\n",
    "\n",
    ">Print out the type of np_baseball to check that you got it right."
   ]
  },
  {
   "cell_type": "code",
   "execution_count": null,
   "id": "3b6487c1",
   "metadata": {},
   "outputs": [
    {
     "name": "stdout",
     "output_type": "stream",
     "text": [
      "<class 'numpy.ndarray'>\n"
     ]
    }
   ],
   "source": [
    "# Import the numpy package as np\n",
    "import numpy as np\n",
    "\n",
    "baseball = [180, 215, 210, 210, 188, 176, 209, 200]\n",
    "\n",
    "# Create a numpy array from baseball: np_baseball\n",
    "np_baseball=np.array(baseball)\n",
    "\n",
    "# Print out type of np_baseball\n",
    "print(type(np_baseball))"
   ]
  },
  {
   "cell_type": "markdown",
   "id": "9cfcc6e3",
   "metadata": {},
   "source": [
    "#### Baseball players' height\n",
    "\n",
    "You are a huge baseball fan. You decide to call the MLB (Major League Baseball) and ask around for some more statistics on the height of the main players. They pass along data on more than a thousand players, which is stored as a regular Python list: height_in. The height is expressed in inches. Can you make a numpy array out of it and convert the units to meters?\n",
    "\n",
    "height_in is already available and the numpy package is loaded, so you can start straight away (Source: stat.ucla.edu).\n"
   ]
  },
  {
   "cell_type": "markdown",
   "id": "95509ea7",
   "metadata": {},
   "source": [
    "\n",
    "Instructions\n",
    "\n",
    ">Create a numpy array from height_in. Name this new array np_height_in.\n",
    "\n",
    ">Print np_height_in.\n",
    "\n",
    ">Multiply np_height_in with 0.0254 to convert all height measurements from inches to meters. \n",
    "\n",
    ">Store the new values in a new array, np_height_m.\n",
    "\n",
    ">Print out np_height_m and check if the output makes sense."
   ]
  },
  {
   "cell_type": "code",
   "execution_count": null,
   "id": "7a855a6a",
   "metadata": {},
   "outputs": [
    {
     "name": "stdout",
     "output_type": "stream",
     "text": [
      "[74 74 72 ... 75 75 73]\n",
      "[1.8796 1.8796 1.8288 ... 1.905  1.905  1.8542]\n"
     ]
    }
   ],
   "source": [
    "# Import numpy\n",
    "import pandas as pd\n",
    "mlb = pd.read_csv(\"https://assets.datacamp.com/course/intro_to_python/baseball.csv\")\n",
    "height_in = mlb['Height'].tolist()\n",
    "import numpy as np\n",
    "\n",
    "# Create a numpy array from height_in: np_height_in\n",
    "np_height_in = np.array(height_in)\n",
    "\n",
    "# Print out np_height_in\n",
    "print(np_height_in)\n",
    "\n",
    "# Convert np_height_in to m: np_height_m\n",
    "np_height_m=np_height_in*0.0254\n",
    "\n",
    "# Print np_height_m\n",
    "print(np_height_m)"
   ]
  },
  {
   "cell_type": "markdown",
   "id": "f6062aa0",
   "metadata": {},
   "source": [
    "## NumPy Side Effects\n",
    "\n",
    "numpy is great for doing vector arithmetic. If you compare its functionality with regular Python lists, however, some things have changed.\n",
    "\n",
    "First of all, numpy arrays cannot contain elements with different types. Second, the typical arithmetic operators, such as +, -, * and / have a different meaning for regular Python lists and numpy arrays.\n",
    "\n",
    "Some lines of code have been provided for you. Try these out and select the one that would match this:\n"
   ]
  },
  {
   "cell_type": "code",
   "execution_count": null,
   "id": "e399dadb",
   "metadata": {},
   "outputs": [
    {
     "data": {
      "text/plain": [
       "array([4, 5, 2])"
      ]
     },
     "execution_count": 1,
     "metadata": {},
     "output_type": "execute_result"
    }
   ],
   "source": [
    "import numpy as np\n",
    "\n",
    "\n",
    "np.array([True, 1, 2]) + np.array([3, 4, False])\n"
   ]
  },
  {
   "cell_type": "markdown",
   "id": "283b9bc2",
   "metadata": {},
   "source": [
    "\n",
    "The numpy package is already imported as np."
   ]
  },
  {
   "cell_type": "markdown",
   "id": "e70021e2",
   "metadata": {},
   "source": [
    "Possible answers\n",
    "\n",
    "\n",
    ">np.array([True, 1, 2, 3, 4, False])\n",
    "\n",
    ">np.array([4, 3, 0]) + np.array([0, 2, 2]) <<-- has same value as array([4, 5, 2])  a.k.a  np.array([True, 1, 2]) + np.array([3, 4, False])\n",
    "\n",
    ">np.array([1, 1, 2]) + np.array([3, 4, -1])\n",
    "\n",
    ">np.array([0, 1, 2, 3, 4, 5])"
   ]
  },
  {
   "cell_type": "markdown",
   "id": "1aba8cf1",
   "metadata": {},
   "source": [
    "## Subsetting NumPy Arrays\n",
    "Subsetting (using the square bracket notation on lists or arrays) works exactly the same with both lists and arrays.\n",
    "\n",
    "This exercise already has two lists, height_in and weight_lb, loaded in the background for you. These contain the height and weight of the MLB players as regular lists. It also has two numpy array lists, np_weight_lb and np_height_in prepared for you.\n"
   ]
  },
  {
   "cell_type": "markdown",
   "id": "09f65f4a",
   "metadata": {},
   "source": [
    "\n",
    "Instructions\n",
    "\n",
    ">Subset np_weight_lb by printing out the element at index 50.\n",
    "\n",
    ">Print out a sub-array of np_height_in that contains the elements at index 100 up to and including index 110."
   ]
  },
  {
   "cell_type": "code",
   "execution_count": null,
   "id": "6a37ef65",
   "metadata": {},
   "outputs": [
    {
     "name": "stdout",
     "output_type": "stream",
     "text": [
      "200\n",
      "[73 74 72 73 69 72 73 75 75 73 72]\n"
     ]
    }
   ],
   "source": [
    "import pandas as pd\n",
    "mlb = pd.read_csv(\"https://assets.datacamp.com/course/intro_to_python/baseball.csv\")\n",
    "weight_lb = mlb['Weight'].tolist()\n",
    "height_in = mlb['Height'].tolist()\n",
    "import numpy as np\n",
    "\n",
    "np_weight_lb = np.array(weight_lb)\n",
    "np_height_in = np.array(height_in)\n",
    "\n",
    "# Print out the weight at index 50\n",
    "print(np_weight_lb[50])\n",
    "\n",
    "# Print out sub-array of np_height_in: index 100 up to and including index 110\n",
    "print(np_height_in[100:111])"
   ]
  },
  {
   "cell_type": "markdown",
   "id": "607d75a0",
   "metadata": {},
   "source": [
    "## NumPy: remarks"
   ]
  },
  {
   "cell_type": "markdown",
   "id": "c367e6be",
   "metadata": {},
   "source": [
    "### Different types: different behavior!"
   ]
  },
  {
   "cell_type": "code",
   "execution_count": null,
   "id": "8394eb51",
   "metadata": {},
   "outputs": [
    {
     "name": "stdout",
     "output_type": "stream",
     "text": [
      "[1, 2, 3, 1, 2, 3]\n",
      "[2 4 6]\n"
     ]
    }
   ],
   "source": [
    "import numpy as np\n",
    "\n",
    "python_list = [1, 2, 3]\n",
    "numpy_array = np.array([1, 2, 3])\n",
    "python_list_plusnonarray=python_list + python_list\n",
    "python_list_plusarray=numpy_array + numpy_array\n",
    "\n",
    "print(python_list_plusnonarray)\n",
    "print(python_list_plusarray)"
   ]
  },
  {
   "cell_type": "code",
   "execution_count": null,
   "id": "c7257e80",
   "metadata": {},
   "outputs": [
    {
     "ename": "TypeError",
     "evalue": "unsupported operand type(s) for ** or pow(): 'list' and 'int'",
     "output_type": "error",
     "traceback": [
      "\u001b[31m---------------------------------------------------------------------------\u001b[39m",
      "\u001b[31mTypeError\u001b[39m                                 Traceback (most recent call last)",
      "\u001b[36mCell\u001b[39m\u001b[36m \u001b[39m\u001b[32mIn[12]\u001b[39m\u001b[32m, line 5\u001b[39m\n\u001b[32m      3\u001b[39m height = [\u001b[32m1.73\u001b[39m, \u001b[32m1.68\u001b[39m, \u001b[32m1.71\u001b[39m, \u001b[32m1.89\u001b[39m, \u001b[32m1.79\u001b[39m]\n\u001b[32m      4\u001b[39m weight = [\u001b[32m65.4\u001b[39m, \u001b[32m59.2\u001b[39m, \u001b[32m63.6\u001b[39m, \u001b[32m88.4\u001b[39m, \u001b[32m68.7\u001b[39m]\n\u001b[32m----> \u001b[39m\u001b[32m5\u001b[39m weight / \u001b[43mheight\u001b[49m\u001b[43m \u001b[49m\u001b[43m*\u001b[49m\u001b[43m*\u001b[49m\u001b[43m \u001b[49m\u001b[32;43m2\u001b[39;49m\n",
      "\u001b[31mTypeError\u001b[39m: unsupported operand type(s) for ** or pow(): 'list' and 'int'"
     ]
    }
   ],
   "source": [
    "import numpy as np\n",
    "\n",
    "height = [1.73, 1.68, 1.71, 1.89, 1.79]\n",
    "weight = [65.4, 59.2, 63.6, 88.4, 68.7]\n",
    "weight / height ** 2\n",
    "\n",
    "#failed typeerror EXAMPLE\n"
   ]
  },
  {
   "cell_type": "code",
   "execution_count": null,
   "id": "486e5990",
   "metadata": {},
   "outputs": [
    {
     "data": {
      "text/plain": [
       "array([21.85171573, 20.97505669, 21.75028214, 24.7473475 , 21.44127836])"
      ]
     },
     "execution_count": 11,
     "metadata": {},
     "output_type": "execute_result"
    }
   ],
   "source": [
    "\n",
    "import numpy as np\n",
    "np_height = np.array(height)\n",
    "np_weight = np.array(weight)\n",
    "np_weight / np_height ** 2\n"
   ]
  },
  {
   "cell_type": "markdown",
   "id": "f0f3d0ee",
   "metadata": {},
   "source": [
    "### NumPy arrays: contain only one type\n"
   ]
  },
  {
   "cell_type": "code",
   "execution_count": null,
   "id": "9ae7732d",
   "metadata": {},
   "outputs": [
    {
     "data": {
      "text/plain": [
       "array(['1.0', 'is', 'True'], dtype='<U32')"
      ]
     },
     "execution_count": 13,
     "metadata": {},
     "output_type": "execute_result"
    }
   ],
   "source": [
    "import numpy as np\n",
    "\n",
    "np.array([1.0, \"is\", True])\n",
    "\n",
    "\n",
    "#NumPy arrays: contain only one type\n"
   ]
  },
  {
   "cell_type": "markdown",
   "id": "b705d3fa",
   "metadata": {},
   "source": [
    "### NumPy Subsetting"
   ]
  },
  {
   "cell_type": "code",
   "execution_count": 20,
   "id": "c7f4dc7b",
   "metadata": {},
   "outputs": [
    {
     "name": "stdout",
     "output_type": "stream",
     "text": [
      "[23.10810811 27.60135135 28.47800926 ... 25.62044444 23.74577778\n",
      " 25.72433853]\n",
      "27.60135135135135\n",
      "[ True  True  True ...  True  True  True]\n",
      "[23.10810811 27.60135135 28.47800926 28.47800926 24.80090073 25.98781769\n",
      " 30.8605335  27.89129141 28.11513158 25.10216227 24.80090073 23.74554325\n",
      " 23.75       26.57844991 26.54183673 24.93282042 23.12088889 25.30522682\n",
      " 25.9077071  24.95065789 29.52702703 23.73355263 24.40972222 26.77563975\n",
      " 28.12       24.06965762 25.03378378 24.00938262 24.13513514 23.10979619\n",
      " 23.74554325 24.99555556 26.38393695 30.61955556 29.99466667 27.60135135\n",
      " 27.31674018 24.40487998 25.5472973  26.38393695 28.36273222 24.34210526\n",
      " 26.31756757 26.44594595 26.68530612 25.49459877 26.08534323 26.95945946\n",
      " 27.97653061 26.38393695 24.99555556 25.80263158 27.26315789 24.265286\n",
      " 26.31756757 28.24324324 23.73355263 23.71394839 27.85855815 26.34516765\n",
      " 33.744      23.71394839 26.24533333 23.125      28.24324324 24.40972222\n",
      " 27.79996142 26.24533333 29.02233064 27.83505348 26.38393695 25.8244898\n",
      " 27.25918367 24.38979592 27.99342105 23.56509516 25.79944455 25.08777006\n",
      " 24.99555556 28.12       28.12       27.49511111 24.32525952 26.31756757\n",
      " 27.15401052 34.86411426 27.7031338  23.125      25.67567568 23.09165198\n",
      " 27.74506667 25.72433853 24.95065789 28.24324324 28.24324324 25.08777006\n",
      " 25.03378378 29.02233064 29.52702703 24.40972222 29.02233064 26.57844991\n",
      " 24.40972222 26.24533333 26.87022222 26.38393695 28.88483796 24.40972222\n",
      " 23.36842105 30.16891892 25.08777006 27.86388936 26.95945946 26.32248271\n",
      " 26.24533333 27.99342105 24.165625   23.10810811 24.39189189 24.99555556\n",
      " 24.265286   25.59241884 23.74554325 24.39189189 29.99466667 24.34210526\n",
      " 27.6123785  26.38393695 25.03378378 25.55921053 26.77631579 24.39189189\n",
      " 27.7031338  28.88513514 25.8244898  25.08777006 24.40514168 24.40514168\n",
      " 23.74554325 24.82324936 25.67567568 27.66435185 27.08783784 26.49672684\n",
      " 26.95945946 25.0647401  23.74577778 23.12088889 32.66623938 23.08594483\n",
      " 23.12088889 24.34210526 28.24324324 25.42077581 24.39189189 26.77631579\n",
      " 27.79996142 25.67567568 30.42763158 28.88513514 26.87022222 24.265286\n",
      " 26.87022222 26.44386574 25.67567568 26.30825617 28.24324324 25.8244898\n",
      " 25.10216227 24.38979592 24.37066667 25.10216227 23.7075977  27.17545506\n",
      " 27.79996142 27.89129141 29.68192907 27.25752315 28.12       29.91216216\n",
      " 23.10810811 28.12       23.74554325 26.08534323 23.74554325 28.84539474\n",
      " 26.87022222 24.39189189 28.60197368 23.74577778 23.74554325 23.01031541\n",
      " 23.73355263 24.99555556 25.7658179  26.49672684 24.40514168 26.31756757\n",
      " 26.49672684 27.79996142 26.44594595 27.49511111 27.43929443 23.05362654\n",
      " 24.37066667 26.24533333 24.39189189 28.61361883 29.52702703 23.7075977\n",
      " 26.54183673 23.75       28.57530781 26.67819194 26.24533333 26.57626561\n",
      " 24.99555556 26.16776316 26.12009758 28.24497778 34.74382222 24.21807403\n",
      " 27.27104065 29.21052632 25.6599881  27.37013333 32.189456   26.49672684\n",
      " 27.38486842 29.83410494 23.86728395 27.25918367 26.71508488 26.91161569\n",
      " 23.28922833 24.40972222 27.19400913 29.02233064 29.1560571  24.40514168\n",
      " 24.39189189 26.31756757 27.79996142 24.99555556 26.95945946 27.60135135\n",
      " 23.71394839 25.62044444 27.83505348 25.7658179  29.00694307 25.67567568\n",
      " 24.89964581 28.99484444 28.74488889 26.24533333 25.42077581 24.265286\n",
      " 25.93243243 25.80263158 25.99852071 27.25918367 27.12191358 26.03296875\n",
      " 28.24324324 26.91509621 27.25918367 30.68042055 25.67567568 26.49672684\n",
      " 25.08777006 25.79944455 25.67567568 25.39718547 26.77631579 28.12\n",
      " 23.74577778 23.73355263 28.89041096 23.125      25.98817789 23.71394839\n",
      " 25.72433853 28.47800926 24.00289352 26.08534323 27.86388936 25.10216227\n",
      " 25.03378378 25.03378378 25.0647401  26.57626561 23.74577778 26.38393695\n",
      " 27.25918367 24.39189189 27.12191358 26.38393695 24.27322199 24.99555556\n",
      " 28.11486486 26.38393695 28.24324324 25.62044444 23.74577778 23.05362654\n",
      " 28.36273222 23.73167438 26.31756757 23.10979619 26.04605263 26.38393695\n",
      " 24.39189189 29.41122449 27.49511111 26.49672684 29.1560571  27.15401052\n",
      " 23.87075556 26.38393695 23.87746294 27.89129141 26.24533333 28.45673807\n",
      " 25.08777006 24.36357908 25.0647401  23.75       23.73167438 26.24533333\n",
      " 24.38979592 23.73167438 29.83410494 26.95945946 27.04353537 25.67567568\n",
      " 24.95065789 24.37066667 26.3625     24.99555556 28.36273222 25.93243243\n",
      " 25.67567568 25.0647401  25.62044444 23.74577778 28.36273222 23.12088889\n",
      " 25.67567568 24.39189189 28.47800926 23.75       28.24324324 24.39189189\n",
      " 26.64777632 24.95065789 27.49511111 23.73167438 25.0647401  26.38393695\n",
      " 31.05459105 27.93557099 29.83410494 24.40972222 27.19400913 23.49582222\n",
      " 29.52702703 25.0647401  24.99555556 28.11486486 28.60197368 23.74554325\n",
      " 23.10810811 23.10810811 27.12191358 30.04054054 23.75       27.49511111\n",
      " 25.76742275 25.67567568 26.95945946 25.67567568 24.89964581 27.25918367\n",
      " 23.3497842  29.14189189 23.74554325 27.19400913 24.87057778 24.40487998\n",
      " 25.08777006 28.45673807 26.95945946 25.8244898  23.00252994 29.68192907\n",
      " 24.40972222 24.95065789 26.91509621 27.99342105 26.57626561 27.49511111\n",
      " 26.38393695 28.77169625 24.39189189 23.42957859 30.61955556 30.42763158\n",
      " 23.99573333 27.49511111 24.38979592 26.71508488 24.39189189 27.89129141\n",
      " 26.77631579 27.7031338  27.75       26.49672684 23.6252888  24.95216049\n",
      " 24.40972222 26.57844991 26.38393695 25.98781769 28.5        27.08783784\n",
      " 26.44386574 27.89129141 23.73167438 27.93557099 29.21052632 31.64473684\n",
      " 23.75       26.89802632 25.62044444 27.89129141 23.05362654 28.03074787\n",
      " 27.04353537 23.12088889 24.95065789 30.61955556 30.68042055 26.24533333\n",
      " 28.24324324 25.08777006 23.08594483 23.74554325 26.38393695 25.55921053\n",
      " 23.73167438 26.77631579 27.17545506 23.74554325 27.7031338  24.37066667\n",
      " 24.99555556 23.71394839 24.40972222 27.49511111 27.97653061 26.31756757\n",
      " 23.05362654 26.3625     29.28585598 27.19400913 25.67567568 26.31756757\n",
      " 25.32857947 23.74577778 31.66072434 23.71394839 27.79996142 23.08594483\n",
      " 29.64243549 26.77631579 31.23824638 26.24533333 25.72433853 23.10810811\n",
      " 29.04958678 24.40487998 24.40972222 28.36273222 25.84015963 23.74554325\n",
      " 27.97653061 29.52702703 27.99342105 27.04353537 28.36273222 24.37066667\n",
      " 23.74554325 23.09165198 23.10810811 25.0647401  23.10810811 23.74577778\n",
      " 28.24324324 27.7031338  30.2352842  25.0647401  27.27104065 25.67567568\n",
      " 26.31756757 27.7031338  26.67819194 27.60135135 26.08534323 25.62044444\n",
      " 23.71394839 27.49511111 27.47292204 28.88513514 26.82877551 27.59734017\n",
      " 25.08777006 25.08777006 25.10714286 25.67567568 23.10810811 25.49459877\n",
      " 29.68192907 27.12191358 26.95945946 31.4527027  25.92434211 24.15124926\n",
      " 29.27027027 30.12857143 32.97992119 25.19665979 24.39189189 23.71394839\n",
      " 29.1560571  30.91447368 30.60536686 23.74554325 29.1560571  28.24324324\n",
      " 23.10810811 27.89129141 23.05362654 24.37066667 26.95945946 25.67567568\n",
      " 26.08534323 23.67244898 25.10216227 26.38393695 24.34210526 23.7075977\n",
      " 27.99502222 28.24324324 24.40972222 24.09868421 27.03412915 29.08881579\n",
      " 24.40514168 25.55921053 25.42077581 24.99555556 23.73355263 29.83410494\n",
      " 31.19020062 29.02233064 28.74488889 23.01031541 24.95065789 27.54612245\n",
      " 26.24533333 26.31756757 24.99555556 27.7031338  25.79944455 27.19400913\n",
      " 27.39313272 27.04353537 25.72433853 24.40972222 29.53161101 24.40514168\n",
      " 27.73175542 25.79944455 29.02233064 25.62044444 24.95065789 25.8244898\n",
      " 25.80405405 25.99537778 27.03412915 24.40972222 27.27104065 25.72433853\n",
      " 26.87022222 23.74577778 24.37066667 28.36273222 28.36273222 26.77631579\n",
      " 26.08534323 28.74488889 27.97653061 26.49672684 27.19400913 26.12035556\n",
      " 26.18918919 25.10186936 26.54183673 25.62044444 23.73167438 26.24533333\n",
      " 25.0647401  24.40972222 24.40972222 28.60197368 24.99555556 26.95945946\n",
      " 26.57844991 25.0647401  26.71508488 27.52874228 25.62044444 24.34210526\n",
      " 27.4609375  23.71394839 26.77631579 26.49672684 25.0647401  26.77631579\n",
      " 25.49249452 27.17545506 26.16776316 26.54183673 29.36977778 24.80090073\n",
      " 28.74488889 27.97653061 24.80655325 26.49672684 27.12191358 26.38393695\n",
      " 27.11571429 25.8244898  25.0647401  24.34210526 27.49511111 25.3589892\n",
      " 31.66072434 25.10216227 25.08777006 26.95945946 28.24324324 28.11486486\n",
      " 25.7658179  23.49013158 24.40972222 29.1560571  29.28585598 27.12191358\n",
      " 25.7658179  26.54183673 26.08534323 26.44386574 24.95065789 27.19400913\n",
      " 25.55921053 26.49672684 25.0647401  25.8244898  29.02233064 25.0647401\n",
      " 25.22337963 25.79944455 26.49672684 25.10216227 25.7658179  23.05362654\n",
      " 26.95945946 30.81081081 28.24324324 25.10216227 28.47800926 26.24533333\n",
      " 26.44386574 24.40972222 27.79996142 27.12191358 25.08777006 31.4527027\n",
      " 24.39189189 24.89964581 24.99555556 26.38393695 27.74506667 28.36273222\n",
      " 29.21052632 23.05362654 26.08534323 25.7658179  28.17020432 30.81987701\n",
      " 24.99555556 25.7658179  27.7031338  25.0647401  27.89129141 23.67244898\n",
      " 23.74577778 25.79944455 27.99342105 27.43929443 31.77487024 24.40487998\n",
      " 24.40972222 25.67567568 24.3067971  27.12191358 30.42763158 24.265286\n",
      " 24.64410913 33.08873457 26.64777632 29.21052632 27.12191358 29.1560571\n",
      " 25.55921053 26.16776316 27.12017778 28.40693878 27.89129141 28.24324324\n",
      " 23.05362654 26.38393695 27.99342105 28.11513158 24.14130231 26.77563975\n",
      " 25.38948962 26.49672684 25.10216227 23.10810811 25.49249452 23.6252888\n",
      " 27.79996142 27.14144737 23.74577778 29.21052632 23.73167438 29.52702703\n",
      " 27.14144737 25.16216216 24.37066667 29.64243549 27.25918367 25.7658179\n",
      " 26.67819194 27.49511111 29.14639952 28.47800926 25.25061224 35.25848765\n",
      " 26.44386574 25.0647401  24.95216049 23.10810811 26.44386574 26.44386574\n",
      " 27.37013333 30.51215278 27.96697317 25.93243243 25.08777006 23.10979619\n",
      " 26.12035556 27.12191358 25.03378378 28.49493333 26.24533333 23.125\n",
      " 27.21621622 24.39189189 28.75849127 28.24324324 26.49672684 30.16891892\n",
      " 26.24533333 24.34210526 24.13513514 25.55921053 28.60197368 24.80090073\n",
      " 26.87022222 26.9952     28.24324324 27.36591696 25.08777006 24.99555556\n",
      " 29.28585598 31.56326531 25.08777006 30.47344718 28.47800926 24.37066667\n",
      " 25.67567568 29.41122449 24.34210526 26.49672684 26.13771565 25.08777006\n",
      " 23.74554325 25.10216227 25.99537778 27.86388936 29.1560571  31.32432432\n",
      " 29.83410494 24.40514168 26.57626561 26.38393695 23.74554325 25.0647401\n",
      " 25.85625821 23.74554325 27.99342105 27.99502222 23.48170388 27.79996142\n",
      " 24.40514168 26.24533333 23.10810811 25.0647401  26.38393695 31.27960526\n",
      " 25.0647401  27.49511111 23.67244898 24.3067971  27.12191358 24.66250632\n",
      " 23.75       26.87022222 29.36977778 26.24533333 23.05362654 23.10810811\n",
      " 23.7075977  23.125      28.74488889 24.70723684 26.53215271 30.74453333\n",
      " 23.87837838 25.55921053 26.85069444 28.47800926 26.87022222 27.12191358\n",
      " 29.04958678 26.38393695 26.03703704 27.54612245 25.67567568 26.03703704\n",
      " 26.31756757 25.7658179  25.93890101 24.38979592 27.47292204 26.65460526\n",
      " 25.67567568 26.77631579 26.57432432 28.88513514 26.57432432 26.49528889\n",
      " 28.12       23.7075977  26.49672684 26.95945946 27.27104065 29.28585598\n",
      " 25.67567568 29.74471111 27.74531962 27.01973684 25.67567568 23.125\n",
      " 23.05362654 30.68042055 30.24093364 26.24533333 28.36273222 29.79844291\n",
      " 23.73167438 25.84015963 24.93282042 27.04353537 26.24533333 25.8244898\n",
      " 25.8244898  25.29054054 27.49511111 29.27027027 24.39189189 26.91161569\n",
      " 26.9952     26.08534323 27.43929443 26.95945946 26.16776316 25.03378378\n",
      " 24.99555556 28.36273222 27.87171053 27.73175542 25.8704     27.04353537\n",
      " 24.66250632 23.75       25.7658179  28.20679012 31.37770284 25.0647401\n",
      " 28.12       24.40514168 28.18890622 25.8398307  29.21052632 28.24324324\n",
      " 27.96697317 23.3855102  26.87022222 25.10714286 27.79996142 24.89964581\n",
      " 23.09165198 24.03418803 27.60135135 24.99555556 26.57626561 25.68092105\n",
      " 28.74488889 28.05503046 27.49511111 24.40972222 25.62044444 25.0647401\n",
      " 23.10810811 25.62044444 23.74577778 25.72433853]\n"
     ]
    }
   ],
   "source": [
    "import pandas as pd\n",
    "mlb = pd.read_csv(\"https://assets.datacamp.com/course/intro_to_python/baseball.csv\")\n",
    "weight_lb = mlb['Weight'].tolist()\n",
    "height_in = mlb['Height'].tolist()\n",
    "age_yr = mlb['Age'].tolist()\n",
    "import numpy as np\n",
    "\n",
    "np_weight = np.array(weight_lb)\n",
    "np_height = np.array(height_in)\n",
    "np_age = np.array(age_yr)\n",
    "\n",
    "bmi=703*np_weight / np_height**2\n",
    "print(bmi)\n",
    "\n",
    "print(bmi[1])\n",
    "print(bmi > 23)\n",
    "print(bmi[bmi > 23])"
   ]
  },
  {
   "cell_type": "code",
   "execution_count": 22,
   "id": "b599cfda",
   "metadata": {},
   "outputs": [
    {
     "name": "stdout",
     "output_type": "stream",
     "text": [
      "[[180.          74.          22.99        23.10810811]\n",
      " [215.          74.          34.69        27.60135135]\n",
      " [210.          72.          30.78        28.47800926]\n",
      " ...\n",
      " [205.          75.          25.19        25.62044444]\n",
      " [190.          75.          31.01        23.74577778]\n",
      " [195.          73.          27.92        25.72433853]]\n"
     ]
    }
   ],
   "source": [
    "np_weight\n",
    "np_height\n",
    "np_age\n",
    "bmi\n",
    "\n",
    "# Combine np_weight, np_height, and bmi into one 2D array\n",
    "combined = np.column_stack((np_weight, np_height, np_age, bmi))\n",
    "\n",
    "print(combined)"
   ]
  },
  {
   "cell_type": "markdown",
   "id": "48fbdd98",
   "metadata": {},
   "source": [
    "## Your First 2D NumPy Array\n",
    "Before working on the actual MLB data, let's try to create a 2D numpy array from a small list of lists.\n",
    "\n",
    "In this exercise, baseball is a list of lists. The main list contains 4 elements. Each of these elements is a list containing the height and the weight of 4 baseball players, in this order. baseball is already coded for you in the script.\n"
   ]
  },
  {
   "cell_type": "markdown",
   "id": "3fd0745c",
   "metadata": {},
   "source": [
    "\n",
    "Instructions\n",
    "\n",
    ">Use np.array() to create a 2D numpy array from baseball. Name it np_baseball.\n",
    "\n",
    ">Print out the type of np_baseball.\n",
    "\n",
    ">Print out the shape attribute of np_baseball. Use np_baseball.shape."
   ]
  },
  {
   "cell_type": "code",
   "execution_count": 2,
   "id": "f06a4cee",
   "metadata": {},
   "outputs": [
    {
     "name": "stdout",
     "output_type": "stream",
     "text": [
      "<class 'numpy.ndarray'>\n",
      "(4, 2)\n"
     ]
    }
   ],
   "source": [
    "import numpy as np\n",
    "\n",
    "baseball = [[180, 78.4],\n",
    "            [215, 102.7],\n",
    "            [210, 98.5],\n",
    "            [188, 75.2]]\n",
    "\n",
    "# Create a 2D numpy array from baseball: np_baseball\n",
    "np_baseball= np.array(baseball)\n",
    "\n",
    "# Print out the type of np_baseball\n",
    "print(type(np_baseball))\n",
    "\n",
    "# Print out the shape of np_baseball\n",
    "print(np_baseball.shape)\n"
   ]
  },
  {
   "cell_type": "markdown",
   "id": "9bf7fe00",
   "metadata": {},
   "source": [
    "#### Baseball data in 2D form\n",
    "You realize that it makes more sense to restructure all this information in a 2D numpy array.\n",
    "\n",
    "You have a Python list of lists. In this list of lists, each sublist represents the height and weight of a single baseball player. The name of this list is baseball and it has been loaded for you already (although you can't see it).\n",
    "\n",
    "Store the data as a 2D array to unlock numpy's extra functionality.\n"
   ]
  },
  {
   "cell_type": "markdown",
   "id": "6796d012",
   "metadata": {},
   "source": [
    "\n",
    "Instructions\n",
    "\n",
    ">Use np.array() to create a 2D numpy array from baseball. Name it np_baseball.\n",
    "\n",
    ">Print out the shape attribute of np_baseball."
   ]
  },
  {
   "cell_type": "code",
   "execution_count": 3,
   "id": "30ce60c6",
   "metadata": {},
   "outputs": [
    {
     "name": "stdout",
     "output_type": "stream",
     "text": [
      "(4, 2)\n",
      "[[180.   78.4]\n",
      " [215.  102.7]\n",
      " [210.   98.5]\n",
      " [188.   75.2]]\n"
     ]
    }
   ],
   "source": [
    "import numpy as np\n",
    "\n",
    "# Create a 2D numpy array from baseball: np_baseball\n",
    "np_baseball = np.array(baseball)\n",
    "\n",
    "# Print out the shape of np_baseball\n",
    "print(np_baseball.shape)\n",
    "print(np_baseball)"
   ]
  },
  {
   "cell_type": "markdown",
   "id": "bba5ad99",
   "metadata": {},
   "source": [
    "### Subsetting 2D NumPy Arrays\n",
    "If your 2D numpy array has a regular structure, i.e. each row and column has a fixed number of values, complicated ways of subsetting become very easy. Have a look at the code below where the elements \"a\" and \"c\" are extracted from a list of lists.\n"
   ]
  },
  {
   "cell_type": "code",
   "execution_count": 7,
   "id": "1546eeb6",
   "metadata": {},
   "outputs": [
    {
     "ename": "NameError",
     "evalue": "name 'x' is not defined",
     "output_type": "error",
     "traceback": [
      "\u001b[31m---------------------------------------------------------------------------\u001b[39m",
      "\u001b[31mNameError\u001b[39m                                 Traceback (most recent call last)",
      "\u001b[36mCell\u001b[39m\u001b[36m \u001b[39m\u001b[32mIn[7]\u001b[39m\u001b[32m, line 3\u001b[39m\n\u001b[32m      1\u001b[39m \u001b[38;5;66;03m#numpy\u001b[39;00m\n\u001b[32m      2\u001b[39m \u001b[38;5;28;01mimport\u001b[39;00m\u001b[38;5;250m \u001b[39m\u001b[34;01mnumpy\u001b[39;00m\u001b[38;5;250m \u001b[39m\u001b[38;5;28;01mas\u001b[39;00m\u001b[38;5;250m \u001b[39m\u001b[34;01mnp\u001b[39;00m\n\u001b[32m----> \u001b[39m\u001b[32m3\u001b[39m np_x = np.array(\u001b[43mx\u001b[49m)\n\u001b[32m      4\u001b[39m np_x[:, \u001b[32m0\u001b[39m]\n",
      "\u001b[31mNameError\u001b[39m: name 'x' is not defined"
     ]
    }
   ],
   "source": [
    "\n",
    "#numpy\n",
    "import numpy as np\n",
    "np_x = np.array(x)\n",
    "np_x[:, 0]\n"
   ]
  },
  {
   "cell_type": "markdown",
   "id": "0e17c2c7",
   "metadata": {},
   "source": [
    ">The indexes before the comma refer to the rows, while those after the comma refer to the columns. The : is for slicing; in this example, it tells Python to include all rows.\n"
   ]
  },
  {
   "cell_type": "markdown",
   "id": "e6fa127c",
   "metadata": {},
   "source": [
    "\n",
    "Instructions\n",
    "\n",
    ">Print out the 50th row of np_baseball.\n",
    "\n",
    ">Make a new variable, np_weight_lb, containing the entire second column of np_baseball.\n",
    "\n",
    ">Select the height (first column) of the 124th baseball player in np_baseball and print it out."
   ]
  },
  {
   "cell_type": "markdown",
   "id": "d246d5ff",
   "metadata": {},
   "source": []
  },
  {
   "cell_type": "code",
   "execution_count": 17,
   "id": "2559081d",
   "metadata": {},
   "outputs": [
    {
     "name": "stdout",
     "output_type": "stream",
     "text": [
      "[ 70 195]\n",
      "75\n"
     ]
    }
   ],
   "source": [
    "import numpy as np\n",
    "baseball = np.column_stack(( np_height,np_weight))\n",
    "np_baseball = np.array(baseball)\n",
    "\n",
    "\n",
    "# Print out the 50th row of np_baseball\n",
    "print(np_baseball[49,:])\n",
    "\n",
    "# Select the entire second column of np_baseball: np_weight_lb\n",
    "np_weight_lb = np_baseball[:,1]\n",
    "\n",
    "# Print out height of 124th player\n",
    "print(np_baseball[123,0])"
   ]
  },
  {
   "cell_type": "markdown",
   "id": "2d1e50a6",
   "metadata": {},
   "source": [
    "### 2D Arithmetic\n",
    "2D numpy arrays can perform calculations element by element, like numpy arrays.\n",
    "\n",
    "np_baseball is coded for you; it's again a 2D numpy array with 3 columns representing height (in inches), weight (in pounds) and age (in years). baseball is available as a regular list of lists and updated is available as 2D numpy array.\n"
   ]
  },
  {
   "cell_type": "markdown",
   "id": "26f3a855",
   "metadata": {},
   "source": [
    "\n",
    "Instructions\n",
    "\n",
    ">You managed to get hold of the changes in height, weight and age of all baseball players. It is available as a 2D numpy array, updated. Add np_baseball and updated and print out the result.\n",
    "\n",
    ">You want to convert the units of height and weight to metric (meters and kilograms, respectively). \n",
    "\n",
    ">As a first step, create a numpy array with three values: 0.0254, 0.453592 and 1. Name this array conversion.\n",
    "\n",
    ">Multiply np_baseball with conversion and print out the result."
   ]
  },
  {
   "cell_type": "code",
   "execution_count": 33,
   "id": "5200d944",
   "metadata": {},
   "outputs": [
    {
     "name": "stdout",
     "output_type": "stream",
     "text": [
      "[[ 75.8796  277.52228  57.68   ]\n",
      " [ 75.8796  312.52228  69.38   ]\n",
      " [ 73.8796  307.52228  65.47   ]\n",
      " ...\n",
      " [ 76.8796  302.52228  59.88   ]\n",
      " [ 76.8796  287.52228  65.7    ]\n",
      " [ 74.8796  292.52228  62.61   ]]\n",
      "[0.0254   0.453592 1.      ]\n",
      "[[ 1.8796  81.64656 22.99   ]\n",
      " [ 1.8796  97.52228 34.69   ]\n",
      " [ 1.8288  95.25432 30.78   ]\n",
      " ...\n",
      " [ 1.905   92.98636 25.19   ]\n",
      " [ 1.905   86.18248 31.01   ]\n",
      " [ 1.8542  88.45044 27.92   ]]\n"
     ]
    }
   ],
   "source": [
    "import pandas as pd\n",
    "import numpy as np\n",
    "mlb = pd.read_csv(\"https://assets.datacamp.com/course/intro_to_python/baseball.csv\")\n",
    "weight_lb = mlb['Weight'].tolist()\n",
    "height_in = mlb['Height'].tolist()\n",
    "age_yr = mlb['Age'].tolist()\n",
    "\n",
    "np_weight = np.array(weight_lb)\n",
    "np_height = np.array(height_in)\n",
    "np_age = np.array(age_yr)\n",
    "\n",
    "baseball = np.column_stack((np_height,np_weight,np_age))\n",
    "\n",
    "np_baseball = np.array(baseball)\n",
    "\n",
    "# Print out addition of np_baseball and updated\n",
    "updatedx=[1.8796 , 97.52228 ,34.69  ]\n",
    "print(np_baseball+updatedx)\n",
    "# Create numpy array: conversion\n",
    "conversion=np.array([0.0254,0.453592, 1])\n",
    "print(conversion)\n",
    "\n",
    "# Print out product of np_baseball and conversion\n",
    "product=np_baseball*conversion\n",
    "print(product)"
   ]
  },
  {
   "cell_type": "markdown",
   "id": "d16b743d",
   "metadata": {},
   "source": [
    "## Numpy: Basic Statistic"
   ]
  },
  {
   "cell_type": "markdown",
   "id": "f465df77",
   "metadata": {},
   "source": [
    "Real-Life Example\n",
    "\n",
    "Imagine you're organizing a community health fair and you collect data from 5000 participants about their height and weight. This data is stored in a 2D NumPy array called np_city. To make sense of this data:\n",
    "\n",
    "Average Height: Use np.mean() to find the average height. This helps you understand the typical height in your community.\n"
   ]
  },
  {
   "cell_type": "code",
   "execution_count": 34,
   "id": "59739c41",
   "metadata": {},
   "outputs": [
    {
     "ename": "NameError",
     "evalue": "name 'np_city' is not defined",
     "output_type": "error",
     "traceback": [
      "\u001b[31m---------------------------------------------------------------------------\u001b[39m",
      "\u001b[31mNameError\u001b[39m                                 Traceback (most recent call last)",
      "\u001b[36mCell\u001b[39m\u001b[36m \u001b[39m\u001b[32mIn[34]\u001b[39m\u001b[32m, line 1\u001b[39m\n\u001b[32m----> \u001b[39m\u001b[32m1\u001b[39m average_height = np.mean(\u001b[43mnp_city\u001b[49m[:, \u001b[32m0\u001b[39m])\n",
      "\u001b[31mNameError\u001b[39m: name 'np_city' is not defined"
     ]
    }
   ],
   "source": [
    "\n",
    "average_height = np.mean(np_city[:, 0])\n"
   ]
  },
  {
   "cell_type": "markdown",
   "id": "76d78b71",
   "metadata": {},
   "source": [
    "\n",
    ">Median Height: Use np.median() to find the median height, giving you the middle value when sorted.\n",
    "\n",
    ">Correlation: Check if height and weight are related using np.corrcoef().\n",
    "\n",
    "These steps ensure your data is accurate and meaningful."
   ]
  },
  {
   "cell_type": "markdown",
   "id": "a4eeb0f6",
   "metadata": {},
   "source": [
    "In this lesson, you'll dive into the basics of analyzing data using NumPy. You’ll learn how to generate summarizing statistics from large datasets, like a city-wide survey of 5000 adults' heights and weights, stored in a 2D NumPy array.\n",
    "\n",
    "Key points include:\n"
   ]
  },
  {
   "cell_type": "markdown",
   "id": "b1c63801",
   "metadata": {},
   "source": [
    "\n",
    ">Extracting data columns for analysis\n",
    "\n",
    ">Calculating mean and median with np.mean() and np.median()\n",
    "\n",
    ">Using np.corrcoef() for correlation and np.std() for standard deviation\n",
    "\n",
    ">Understanding NumPy's speed advantage due to consistent data types\n",
    "\n",
    "Here's a quick example to calculate the average height:\n"
   ]
  },
  {
   "cell_type": "code",
   "execution_count": null,
   "id": "0ec7f1b7",
   "metadata": {},
   "outputs": [],
   "source": [
    "\n",
    "import numpy as np\n",
    "average_height = np.mean(np_city[:, 0])\n",
    "\n",
    "#Now, proceed to the exercises to practice these concepts!"
   ]
  },
  {
   "cell_type": "markdown",
   "id": "cf1920ea",
   "metadata": {},
   "source": [
    "### Average versus median\n",
    "You now know how to use numpy functions to get a better feeling for your data.\n",
    "\n",
    "The baseball data is available as a 2D numpy array with 3 columns (height, weight, age) and 1015 rows. The name of this numpy array is np_baseball. After restructuring the data, however, you notice that some height values are abnormally high. Follow the instructions and discover which summary statistic is best suited if you're dealing with so-called outliers. np_baseball is available.\n"
   ]
  },
  {
   "cell_type": "markdown",
   "id": "dc6a8bbd",
   "metadata": {},
   "source": [
    "\n",
    "Instructions\n",
    "\n",
    ">Create numpy array np_height_in that is equal to first column of np_baseball.\n",
    "\n",
    ">Print out the mean of np_height_in.\n",
    "\n",
    ">Print out the median of np_height_in."
   ]
  },
  {
   "cell_type": "code",
   "execution_count": 2,
   "id": "fe1a6990",
   "metadata": {},
   "outputs": [
    {
     "name": "stdout",
     "output_type": "stream",
     "text": [
      "[74. 74. 72. ... 75. 75. 73.]\n",
      "Mean = 73.6896551724138\n",
      "Median = 74.0\n"
     ]
    }
   ],
   "source": [
    "import pandas as pd\n",
    "import numpy as np\n",
    "mlb = pd.read_csv(\"https://assets.datacamp.com/course/intro_to_python/baseball.csv\")\n",
    "weight_lb = mlb['Weight'].tolist()\n",
    "height_in = mlb['Height'].tolist()\n",
    "age_yr = mlb['Age'].tolist()\n",
    "\n",
    "np_weight = np.array(weight_lb)\n",
    "np_height = np.array(height_in)\n",
    "np_age = np.array(age_yr)\n",
    "\n",
    "baseball = np.column_stack((np_height,np_weight,np_age))\n",
    "\n",
    "np_baseball = np.array(baseball)\n",
    "\n",
    "\n",
    "# Create np_height_in from np_baseball\n",
    "np_height_in=np_baseball[:,0]\n",
    "print(np_height_in)\n",
    "\n",
    "# Print out the mean of np_height_in\n",
    "print(\"Mean =\",(np.mean(np_height_in)))\n",
    "\n",
    "# Print out the median of np_height_in\n",
    "print(\"Median =\",(np.median(np_height_in)))\n"
   ]
  },
  {
   "cell_type": "markdown",
   "id": "7e9f66f6",
   "metadata": {},
   "source": [
    "### Square Root\n"
   ]
  },
  {
   "cell_type": "markdown",
   "id": "2d015b26",
   "metadata": {},
   "source": [
    "np.sqrt() digunakan untuk menghitung akar kuadrat dari sebuah angka.\n",
    "Contoh:"
   ]
  },
  {
   "cell_type": "code",
   "execution_count": 15,
   "id": "5670a5ae",
   "metadata": {},
   "outputs": [
    {
     "name": "stdout",
     "output_type": "stream",
     "text": [
      "3.0\n"
     ]
    }
   ],
   "source": [
    "import numpy as np\n",
    "kuadarat=np.sqrt(9)\n",
    "print(kuadarat)"
   ]
  },
  {
   "cell_type": "markdown",
   "id": "8f5e4ad1",
   "metadata": {},
   "source": [
    "➤ Hubungannya dengan SD:\n",
    "\n",
    "Standard deviation adalah akar kuadrat dari variance, maka:\n"
   ]
  },
  {
   "cell_type": "code",
   "execution_count": null,
   "id": "467b0c54",
   "metadata": {},
   "outputs": [],
   "source": [
    "\n",
    "np.std(data) = np.sqrt(np.var(data))"
   ]
  },
  {
   "cell_type": "markdown",
   "id": "6fb3b3e8",
   "metadata": {},
   "source": [
    "### Kovarian "
   ]
  },
  {
   "attachments": {
    "image.png": {
     "image/png": "[encoded data removed]"
    }
   },
   "cell_type": "markdown",
   "id": "00553316",
   "metadata": {},
   "source": [
    "![image.png](attachment:image.png)\n",
    "\n",
    "(xi - x̄) = seberapa jauh titik X dari rata-rata\n",
    "\n",
    "(yi - ȳ) = seberapa jauh titik Y dari rata-rata\n",
    "\n",
    "Perkalian keduanya menunjukkan arah hubungan:\n",
    "\n",
    "positif × positif → positif\n",
    "\n",
    "negatif × negatif → positif\n",
    "\n",
    "positif × negatif → negatif\n",
    "\n"
   ]
  },
  {
   "cell_type": "markdown",
   "id": "8110491b",
   "metadata": {},
   "source": [
    "##### Analogi Sederhana perbedaan Kovarian dengan Varian\n",
    ">🔧 Kovarians:\n",
    "Bayangkan dua roller coaster (X dan Y). Kamu mau tahu: apakah keduanya naik dan turun bersama?\n",
    "\n",
    "Kalau mereka selalu naik-turun bareng, mereka punya kovarians tinggi dan positif.\n",
    "\n",
    "Kalau satu naik saat satunya turun → kovarians negatif.\n",
    "\n",
    "Kalau gerakannya acak dan tak sinkron → kovarians kecil (mendekati nol).\n",
    "\n",
    ">🔧 Varians:\n",
    "Kamu hanya memperhatikan satu roller coaster dan ingin tahu: seberapa liar dia bergerak dari tengah (rata-rata)?"
   ]
  },
  {
   "cell_type": "markdown",
   "id": "523ab6a6",
   "metadata": {},
   "source": [
    "### Variance \n"
   ]
  },
  {
   "attachments": {
    "image.png": {
     "image/png": "[encoded data removed]"
    }
   },
   "cell_type": "markdown",
   "id": "5b917889",
   "metadata": {},
   "source": [
    "Varians adalah spesial case dari kovarians saat dua variabelnya sama:\n",
    "\n",
    "![image.png](attachment:image.png)\n",
    "\n",
    "Jadi varians = seberapa data menyebar dari rata-rata.\n",
    "\n",
    "Varians hanya melihat satu variabel.\n",
    "\n",
    "Kovarians membandingkan dua variabel.\n",
    "\n"
   ]
  },
  {
   "cell_type": "markdown",
   "id": "63ac4abd",
   "metadata": {},
   "source": [
    "Variance adalah ukuran seberapa tersebar data dari nilai rata-ratanya.\n",
    "\n",
    "➤ Analogi:\n",
    "Kamu punya sekumpulan angka. Kalau semua angkanya mendekati nilai rata-rata, variance-nya kecil. Kalau angkanya menyebar jauh-jauh, variance-nya besar.\n",
    "\n",
    "Misalnya:\n",
    "\n",
    "[5, 5, 5, 5, 5] → Variance = 0\n",
    "\n",
    "[1, 5, 9] → Variance tinggi\n",
    "\n"
   ]
  },
  {
   "cell_type": "code",
   "execution_count": 8,
   "id": "58500ca9",
   "metadata": {},
   "outputs": [
    {
     "data": {
      "text/plain": [
       "np.float64(2.0)"
      ]
     },
     "execution_count": 8,
     "metadata": {},
     "output_type": "execute_result"
    }
   ],
   "source": [
    "\n",
    "import numpy as np\n",
    "data = [1, 2, 3, 4, 5]\n",
    "np.var(data)  "
   ]
  },
  {
   "attachments": {
    "image.png": {
     "image/png": "[encoded data removed]"
    }
   },
   "cell_type": "markdown",
   "id": "b96938ae",
   "metadata": {},
   "source": [
    "\n",
    "### Standard Deviasi\n",
    "![image.png](attachment:image.png)\n",
    "\n",
    "Standard deviation (SD) mengukur seberapa tersebar data terhadap nilai rata-rata (mean).\n"
   ]
  },
  {
   "cell_type": "markdown",
   "id": "87cac1a8",
   "metadata": {},
   "source": [
    "Bayangkan kamu dan teman-temanmu lomba lari 100 meter. Kalau semua orang sampai garis finish dalam waktu hampir sama (misalnya 12 detik, 12.1, 11.9), maka:\n",
    "\n",
    ">➤ Simpangan bakunya kecil → Semua peserta punya kecepatan mirip-mirip.\n",
    "\n",
    "Tapi kalau ada yang finish dalam 10 detik, ada yang 14 detik, ada yang 17 detik, maka:\n",
    "\n",
    ">➤ Simpangan bakunya besar → Hasilnya tersebar jauh dari rata-rata.\n"
   ]
  },
  {
   "cell_type": "markdown",
   "id": "1e67e001",
   "metadata": {},
   "source": [
    "➤ Hubungannya dengan SD:\n",
    "\n",
    "Standard deviation adalah akar kuadrat dari variance, maka:\n"
   ]
  },
  {
   "cell_type": "code",
   "execution_count": null,
   "id": "e1808a91",
   "metadata": {},
   "outputs": [],
   "source": [
    "\n",
    "np.std(data) = np.sqrt(np.var(data))"
   ]
  },
  {
   "cell_type": "markdown",
   "id": "2318a567",
   "metadata": {},
   "source": [
    "##### Kapan digunakan?\n",
    "Kapan pun kamu ingin tahu:\n",
    "\n",
    ">Apakah data konsisten atau bervariasi besar\n",
    "\n",
    ">Apakah ada outlier (nilai yang menyimpang jauh)\n",
    "\n",
    ">Apakah sebuah proses stabil (misalnya suhu mesin, performa atlet, traffic website)"
   ]
  },
  {
   "cell_type": "code",
   "execution_count": 7,
   "id": "94387367",
   "metadata": {},
   "outputs": [
    {
     "name": "stdout",
     "output_type": "stream",
     "text": [
      "1.8973665961010275\n"
     ]
    }
   ],
   "source": [
    "import numpy as np\n",
    "\n",
    "data = [10, 12, 13, 15, 10]\n",
    "std = np.std(data)\n",
    "print(std)"
   ]
  },
  {
   "cell_type": "markdown",
   "id": "aaf11f76",
   "metadata": {},
   "source": [
    ">Artinya, data menyebar ±1.89 dari rata-rata."
   ]
  },
  {
   "attachments": {
    "image.png": {
     "image/png": "[encoded data removed]"
    }
   },
   "cell_type": "markdown",
   "id": "abe9810d",
   "metadata": {},
   "source": [
    "![image.png](attachment:image.png)"
   ]
  },
  {
   "cell_type": "markdown",
   "id": "0352a200",
   "metadata": {},
   "source": [
    "### Correlation Coefisien\n"
   ]
  },
  {
   "attachments": {
    "image-2.png": {
     "image/png": "[encoded data removed]"
    },
    "image.png": {
     "image/png": "[encoded data removed]"
    }
   },
   "cell_type": "markdown",
   "id": "c0d0fe0e",
   "metadata": {},
   "source": [
    "![image.png](attachment:image.png)\n",
    "atau\n",
    "![image-2.png](attachment:image-2.png)"
   ]
  },
  {
   "cell_type": "markdown",
   "id": "94f002dc",
   "metadata": {},
   "source": [
    "adalah fungsi dari library NumPy di Python yang digunakan untuk menghitung koefisien korelasi Pearson antar dua (atau lebih) array. Korelasi Pearson mengukur hubungan linear antara dua variabel, dan nilainya berkisar antara:\n",
    "\n",
    ">+1: Korelasi positif sempurna\n",
    "\n",
    ">0: Tidak ada korelasi\n",
    "\n",
    ">–1: Korelasi negatif sempurna"
   ]
  },
  {
   "cell_type": "markdown",
   "id": "9b36c00d",
   "metadata": {},
   "source": [
    "##### Analogi:\n",
    "\n",
    "Misalkan kamu punya dua anak kucing:\n",
    "🐱 Kucing A suka berjemur di jendela\n",
    "🐱 Kucing B suka tidur di sofa\n",
    "\n",
    "Setiap hari kamu mencatat:\n",
    "\n",
    "Apakah Kucing A berjemur (1 = ya, 0 = tidak)\n",
    "\n",
    "Apakah Kucing B tidur di sofa (1 = ya, 0 = tidak)\n",
    "\n",
    "Setelah sebulan kamu penasaran:\n",
    "\n",
    ">“Apakah ketika si Kucing A berjemur, si B juga tidur di sofa? Apakah mereka suka melakukan aktivitas ini bersamaan?”\n",
    "\n",
    "Di sinilah np.corrcoef masuk:\n",
    "Ia membantu menjawab:\n",
    "\n",
    "Seberapa kuat hubungan antar dua perilaku?\n",
    "\n",
    "Hasilnya:\n",
    "\n",
    "1.0 = Mereka selalu melakukan aktivitas bersamaan\n",
    "\n",
    "0.0 = Tidak ada hubungan; kadang iya, kadang tidak\n",
    "\n",
    "–1.0 = Kalau satu melakukan, yang lain tidak\n"
   ]
  },
  {
   "cell_type": "markdown",
   "id": "35ae5ec2",
   "metadata": {},
   "source": [
    "🎯 Interpretasi Nilai Korelasi\n"
   ]
  },
  {
   "cell_type": "code",
   "execution_count": null,
   "id": "9cde0ea9",
   "metadata": {},
   "outputs": [],
   "source": [
    "\n",
    "Nilai Korelasi\tMakna Hubungan\tAnalogi Sederhana\n",
    "\n",
    "+1.0\t        Sangat kuat positif (perfect)\tKalau A naik, B selalu naik bareng\n",
    "+0.7 - +0.9\t    Kuat positif\tKalau A naik, B hampir selalu ikut naik\n",
    "+0.4 - +0.6\t    Cukup positif (moderate)\tA naik, B sering ikut naik, tapi tidak selalu\n",
    "+0.1 - +0.3\t    Lemah positif\tKadang A naik, B juga naik\n",
    "0.0\t            Tidak ada hubungan linear\tA naik atau turun, B tidak bisa ditebak\n",
    "-0.1 - -0.3\t    Lemah negatif\tKadang A naik, B turun\n",
    "-0.4 - -0.6\t    Cukup negatif\tA naik, B sering turun\n",
    "-0.7 - -0.9\t    Kuat negatif\tA naik, B hampir selalu turun\n",
    "-1.0 \t        Sangat kuat negatif (perfect)\tA naik, B selalu turun\n",
    "\n"
   ]
  },
  {
   "cell_type": "markdown",
   "id": "db9b8787",
   "metadata": {},
   "source": [
    "\n",
    "📈 Penjelasan arah:\n",
    "\n",
    ">Positif (+): Saat satu naik, yang lain juga naik\n",
    "\n",
    ">Negatif (-): Saat satu naik, yang lain turun\n",
    "\n",
    ">Mendekati 0: Tidak ada pola yang bisa ditebak\n",
    "\n"
   ]
  },
  {
   "cell_type": "code",
   "execution_count": 5,
   "id": "84b3466a",
   "metadata": {},
   "outputs": [
    {
     "name": "stdout",
     "output_type": "stream",
     "text": [
      "[[1.         0.66666667]\n",
      " [0.66666667 1.        ]]\n",
      "0.6666666666666666\n"
     ]
    }
   ],
   "source": [
    "import numpy as np\n",
    "\n",
    "kucing_a = [1, 1, 0, 1, 0]\n",
    "kucing_b = [1, 1, 0, 0, 0]\n",
    "\n",
    "np.corrcoef(kucing_a, kucing_b)\n",
    "print(np.corrcoef(kucing_a, kucing_b)) \n",
    "print(np.corrcoef(kucing_a, kucing_b)[0, 1])  # Access the correlation coefficient directly"
   ]
  },
  {
   "cell_type": "code",
   "execution_count": null,
   "id": "d82abfd4",
   "metadata": {},
   "outputs": [],
   "source": [
    "[[1.     0.87]\n",
    " [0.87  1.   ]]"
   ]
  },
  {
   "cell_type": "markdown",
   "id": "de04cd5f",
   "metadata": {},
   "source": [
    "\n",
    "Ini disebut matriks korelasi 2x2.\n",
    "Karena kamu memberikan dua set data (misalnya, Kucing A dan Kucing B), maka hasilnya 2 baris dan 2 kolom."
   ]
  },
  {
   "cell_type": "code",
   "execution_count": null,
   "id": "9bff3fde",
   "metadata": {},
   "outputs": [],
   "source": [
    "    Kucing A\tKucing B\n",
    "A\t1.0\t        0.87\n",
    "B\t0.87\t    1.0\n"
   ]
  },
  {
   "cell_type": "markdown",
   "id": "ca03826b",
   "metadata": {},
   "source": [
    ">Baris 1, Kolom 1 = Korelasi Kucing A dengan dirinya sendiri\n",
    "\n",
    ">Baris 1, Kolom 2 = Korelasi Kucing A dengan Kucing B\n",
    "\n",
    ">Baris 2, Kolom 1 = Korelasi Kucing B dengan Kucing A\n",
    "\n",
    ">Baris 2, Kolom 2 = Korelasi Kucing B dengan dirinya sendiri"
   ]
  },
  {
   "cell_type": "markdown",
   "id": "ff471307",
   "metadata": {},
   "source": [
    "Kenapa cuma 2 angka penting?\n",
    "Karena:\n",
    "\n",
    ">Korelasi diri sendiri dengan dirinya sendiri selalu 1.0\n",
    "\n",
    ">Yang kita butuhkan cuma hubungan antar keduanya, yaitu 0.87\n",
    "\n",
    ">Dan karena korelasi bersifat simetris (korelasi A ke B = korelasi B ke A), maka:\n",
    "\n",
    ">np.corrcoef(x, y) = np.corrcoef(y, x)"
   ]
  },
  {
   "cell_type": "markdown",
   "id": "536ab8b9",
   "metadata": {},
   "source": [
    "\n",
    ">💡 Kenapa ini penting di dunia nyata?\n",
    "Misal kamu kerja sebagai data analyst dan melihat:\n",
    "\n",
    "Naiknya jumlah iklan dan penjualan produk\n",
    "\n",
    "Apakah naiknya iklan berkorelasi dengan naiknya penjualan?\n",
    "\n",
    "Dengan np.corrcoef, kamu bisa:\n",
    "\n",
    "✅ Buktikan dengan angka\n",
    "\n",
    "✅ Ambil keputusan berdasar data (bukan perasaan)\n",
    "\n"
   ]
  },
  {
   "cell_type": "markdown",
   "id": "12319901",
   "metadata": {},
   "source": [
    "Kesimpulan:\n",
    "\n",
    "np.corrcoef itu seperti alat pengukur kekompakan antara dua hal.\n",
    "Dipakai untuk menjawab pertanyaan:\n",
    "\n",
    ">\"Apakah dua hal ini sering terjadi bersama?\""
   ]
  },
  {
   "cell_type": "markdown",
   "id": "c025420d",
   "metadata": {},
   "source": [
    "📊 Contoh 1: Korelasi antara dua array"
   ]
  },
  {
   "cell_type": "code",
   "execution_count": 5,
   "id": "6930b95f",
   "metadata": {},
   "outputs": [
    {
     "name": "stdout",
     "output_type": "stream",
     "text": [
      "[[1. 1.]\n",
      " [1. 1.]]\n"
     ]
    }
   ],
   "source": [
    "import numpy as np\n",
    "\n",
    "x = [1, 2, 3, 4, 5]\n",
    "y = [2, 4, 6, 8, 10]\n",
    "\n",
    "correlation_matrix = np.corrcoef(x, y)\n",
    "print(correlation_matrix)"
   ]
  },
  {
   "cell_type": "code",
   "execution_count": 6,
   "id": "31d77642",
   "metadata": {},
   "outputs": [
    {
     "name": "stdout",
     "output_type": "stream",
     "text": [
      "[[ 1.00000000e+00 -2.59883553e-17]\n",
      " [-2.59883553e-17  1.00000000e+00]]\n"
     ]
    }
   ],
   "source": [
    "import numpy as np\n",
    "\n",
    "x = [1, 2, 8, 4, 3]\n",
    "y = [2, 6, 4, 8, 10]\n",
    "\n",
    "correlation_matrix = np.corrcoef(x, y)\n",
    "print(correlation_matrix)"
   ]
  },
  {
   "cell_type": "markdown",
   "id": "af9f0913",
   "metadata": {},
   "source": [
    "📊 Contoh 2: Korelasi antar beberapa variabel (array 2D)"
   ]
  },
  {
   "cell_type": "code",
   "execution_count": null,
   "id": "e0d4c82b",
   "metadata": {},
   "outputs": [
    {
     "data": {
      "text/plain": [
       "array([[ 1.        , -0.18898224,  0.61858957],\n",
       "       [-0.18898224,  1.        ,  0.65465367],\n",
       "       [ 0.61858957,  0.65465367,  1.        ]])"
      ]
     },
     "execution_count": 3,
     "metadata": {},
     "output_type": "execute_result"
    }
   ],
   "source": [
    "import numpy as np\n",
    "\n",
    "data = np.array([\n",
    "    [1, 2, 6],  # Variabel A\n",
    "    [8, 4, 6],  # Variabel B\n",
    "    [7, 3, 9]   # Variabel C\n",
    "])\n",
    "\n",
    "np.corrcoef(data)"
   ]
  },
  {
   "cell_type": "code",
   "execution_count": 4,
   "id": "9925389d",
   "metadata": {},
   "outputs": [
    {
     "data": {
      "text/plain": [
       "array([[1., 1., 1.],\n",
       "       [1., 1., 1.],\n",
       "       [1., 1., 1.]])"
      ]
     },
     "execution_count": 4,
     "metadata": {},
     "output_type": "execute_result"
    }
   ],
   "source": [
    "import numpy as np\n",
    "\n",
    "data = np.array([\n",
    "    [1, 2, 3],  # Variabel A\n",
    "    [4, 5, 6],  # Variabel B\n",
    "    [7, 8, 9]   # Variabel C\n",
    "])\n",
    "\n",
    "np.corrcoef(data)"
   ]
  },
  {
   "cell_type": "markdown",
   "id": "9b7742f5",
   "metadata": {},
   "source": [
    "#### Explore the baseball data\n",
    "Because the mean and median are so far apart, you decide to complain to the MLB. They find the error and send the corrected data over to you. It's again available as a 2D NumPy array np_baseball, with three columns.\n",
    "\n",
    "The Python script in the editor already includes code to print out informative messages with the different summary statistics and numpy is already loaded as np. Can you finish the job? np_baseball is available.\n"
   ]
  },
  {
   "cell_type": "markdown",
   "id": "98511ec7",
   "metadata": {},
   "source": [
    "\n",
    "Instructions\n",
    "\n",
    ">The code to print out the mean height is already included. Complete the code for the median height.\n",
    "\n",
    ">Use np.std() on the first column of np_baseball to calculate stddev.\n",
    "\n",
    ">Do big players tend to be heavier? Use np.corrcoef() to store the correlation between the first and second column of np_baseball in corr."
   ]
  },
  {
   "cell_type": "code",
   "execution_count": 16,
   "id": "c43aee48",
   "metadata": {},
   "outputs": [
    {
     "name": "stdout",
     "output_type": "stream",
     "text": [
      "Average: 73.6896551724138\n",
      "Median: 74.0\n",
      "Standard Deviation: 2.312791881046546\n",
      "Correlation: [[1.         0.53153932]\n",
      " [0.53153932 1.        ]]\n"
     ]
    }
   ],
   "source": [
    "\n",
    "import pandas as pd\n",
    "import numpy as np\n",
    "mlb = pd.read_csv(\"https://assets.datacamp.com/course/intro_to_python/baseball.csv\")\n",
    "weight_lb = mlb['Weight'].tolist()\n",
    "height_in = mlb['Height'].tolist()\n",
    "age_yr = mlb['Age'].tolist()\n",
    "\n",
    "np_weight = np.array(weight_lb)\n",
    "np_height = np.array(height_in)\n",
    "np_age = np.array(age_yr)\n",
    "\n",
    "baseball = np.column_stack((np_height,np_weight,np_age))\n",
    "\n",
    "np_baseball = np.array(baseball)\n",
    "\n",
    "avg = np.mean(np_baseball[:,0])\n",
    "print(\"Average: \" + str(avg))\n",
    "\n",
    "# Print median height\n",
    "med = np.median(np_baseball[:,0])\n",
    "print(\"Median: \" + str(med))\n",
    "\n",
    "# Print out the standard deviation on height\n",
    "stddev = np.std(np_baseball[:,0])\n",
    "print(\"Standard Deviation: \" + str(stddev))\n",
    "\n",
    "# Print out correlation between first and second column\n",
    "corr = np.corrcoef(np_baseball[:,0],np_baseball[:,1])\n",
    "print(\"Correlation: \" + str(corr))"
   ]
  }
 ],
 "metadata": {
  "kernelspec": {
   "display_name": "Python 3",
   "language": "python",
   "name": "python3"
  },
  "language_info": {
   "codemirror_mode": {
    "name": "ipython",
    "version": 3
   },
   "file_extension": ".py",
   "mimetype": "text/x-python",
   "name": "python",
   "nbconvert_exporter": "python",
   "pygments_lexer": "ipython3",
   "version": "3.11.9"
  }
 },
 "nbformat": 4,
 "nbformat_minor": 5
}
